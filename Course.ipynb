{
 "cells": [
  {
   "cell_type": "markdown",
   "id": "e255da2b-1983-46f2-97d3-8ef6687e1acd",
   "metadata": {},
   "source": [
    "# Use version control (Git), and create a script to automatically visualize my favorite database\n",
    "Author: Nikolaj Pagh Kristensen\n",
    "\n",
    "Background: My two favorite databases that I often use in my project contains information T-cell targets and T-cell receptor(TCR) sequences. These are: IEDB(http://www.iedb.org/) and VDJdb (https://vdjdb.cdr3.net/ named after the V, D and J segments of the TCR). I wish to create a script that automatically imports a subset of the database, calculate summary statistics for my favorite groups of T-cells. Furthermore, I wish to visualize summary statistics of the database in it's current form.\n",
    "\n",
    "To break it up into subgoals:\n",
    "1. Create a github repository\",\n",
    "1. Create the necessary initial files according to public guides (https://kbroman.org/github_tutorial/pages/init.html)\n",
    "1. Look for an API to download IEDB data with (if possible). Download only data relevant for CD8 T cells. \n",
    "1. What epitope length is cataloged for each HLA?\n",
    "1. What virual antigens are frequently targeted by T-cells?\n",
    "1. What viruses do the database contain information on, and how many epitopes?\n",
    "\n",
    "Extra things:\n",
    "1. Do something similar but with VDJdb\n",
    "2. Perform sequence analysis of epitopes. Generate clusters of epitopes based on sequence similarity."
   ]
  },
  {
   "cell_type": "markdown",
   "id": "e2a361d1-2753-4c98-8095-b16d54c9915a",
   "metadata": {},
   "source": [
    "# Start a new github repository and start keeping track of version tags\n",
    "From the terminal I will execute the following,\n",
    "1. Make new dirs (Python_projects and Python_projects/Course_work),\n",
    "2. Initialize git by typing git init within the Python_course_report folder:`git init`,\n",
    "3. Generate a README file (Markdown) as well as a .gitingore `touch .gitignore`,\n",
    "1. Use `git add` to add files to the staging area\n",
    "1. Use `git commit -m` to commint the stagining area together with a required comment\n",
    "\n",
    "I double cheched my commit by using `git log`\n",
    "\n",
    "Version numbering is a good practice: https://stackoverflow.com/questions/37814286/how-to-manage-the-version-number-in-git\n",
    "    The general nomenclature is: `[major].[minor].[patch]-[build/beta/rc]`\n",
    "\n",
    "1. Use initial `git tag -a v0.1.0 -m \"Initial version\"`\n",
    "2. inspect tags using `git describe` succesfully returned a list of versions for the git repo\n"
   ]
  },
  {
   "cell_type": "markdown",
   "id": "18340cea-0b49-425f-9bd6-0fce2ff102ae",
   "metadata": {},
   "source": [
    "# Scrape IEDB for data\n",
    "IEDB released an API to collect information directly on the command line or in your Jupyter notbook. The API postREST platform (https://postgrest.org/en/stable/), which has a list of functions and operators that are useful to know (https://postgrest.org/en/v7.0.0/api.html. For more information how it was implemented in the IEDB API see: https://query-api.iedb.org/docs/swagger/ and seek help here: https://help.iedb.org/hc/en-us/articles/4402872882189-Immune-Epitope-Database-Query-API-IQ-API-\n",
    "\n",
    "## Core endpoints from the API\n",
    "While there are many endpoints provided, we expect the majority of users will want to search against one or more of the following tables, which correspond to the tabbed search results on the IEDB. \n",
    "\n",
    "    epitope_search\n",
    "    antigen_search\n",
    "    tcell_search (assays) \n",
    "    bcell_search (assays)\n",
    "    mhc_search (assays)\n",
    "    tcr_search (receptors)\n",
    "    bcr_search (receptors)\n",
    "    reference_search\n",
    "\n",
    "We're mainly interested in:\n",
    "\n",
    "    epitope_search\n",
    "    tcell_search (assays) \n",
    "    tcr_search (receptors)\n",
    "   \n",
    "A good example is found in file: use_case_1a.ipynb. As this is not my example, I have chosen to hide it with .gitignore\n",
    "***\n",
    "## Downloading information on a single epitope in a tabular format\n",
    "This is described in the tutorial: use_case_1a.ipynb. \n",
    "<br>Let's start with the necessary packages:"
   ]
  },
  {
   "cell_type": "code",
   "execution_count": 2,
   "id": "541cbef1-878a-43b8-b82c-4649d3a9e308",
   "metadata": {},
   "outputs": [],
   "source": [
    "import requests\n",
    "import json\n",
    "import pandas as pd\n",
    "from io import StringIO"
   ]
  },
  {
   "cell_type": "markdown",
   "id": "8004527c-bed9-4a6c-8c92-514e1d7f0db1",
   "metadata": {},
   "source": [
    "Let's define the url that we will be sending requests to. "
   ]
  },
  {
   "cell_type": "code",
   "execution_count": 3,
   "id": "c7d87013-d5cc-410f-b09d-0c6051878ee2",
   "metadata": {},
   "outputs": [],
   "source": [
    "base_uri='https://query-api.iedb.org'"
   ]
  },
  {
   "cell_type": "markdown",
   "id": "3e8028dc-f950-4195-81de-a847c23f4767",
   "metadata": {},
   "source": [
    "The user-case recommends a function to print the CURL command given a request:"
   ]
  },
  {
   "cell_type": "code",
   "execution_count": 22,
   "id": "e6fabdd2-531b-4db0-895a-b6a57c35389f",
   "metadata": {},
   "outputs": [],
   "source": [
    "# funciton to print the CURL command given a request\n",
    "    #req is the request, a request\n",
    "def print_curl_cmd(req):\n",
    "    url = req.url\n",
    "    print(\"This is the request url used with the curl cmd:\") #My addition\n",
    "    print(\"curl -X 'GET' '\" + url + \"'\")"
   ]
  },
  {
   "cell_type": "markdown",
   "id": "e3d16f38-33f5-495a-82cd-0222732ab733",
   "metadata": {},
   "source": [
    "The first search should be *simple*, meaning that we will download all information related to a single epitope (my favorite epitope)\n",
    "1. Define my_favorite_epitope\n",
    "1. Define my search paramters (Fx: search_params={ 'linear_sequence': 'eq.SIINFEKL'}\n",
    "2. Define the table_name (what information to search for\n",
    "3. Define the full url of the table that we search for\n",
    "4. fetch the result by parsing the full URL to requests.get, searching for your search paramters, saving the download in results. \n",
    "5. print the curl -x get command "
   ]
  },
  {
   "cell_type": "code",
   "execution_count": 28,
   "id": "c10bd77b-080c-4db5-800b-3b9bda05550c",
   "metadata": {},
   "outputs": [
    {
     "name": "stdout",
     "output_type": "stream",
     "text": [
      "This is the request url used with the curl cmd:\n",
      "curl -X 'GET' 'https://query-api.iedb.org/epitope_search?linear_sequence=eq.HPVGEADYFEY'\n"
     ]
    }
   ],
   "source": [
    "my_favorite_epitope = \"HPVGEADYFEY\"  #HPVGEADYFEY is one of the longest, dominant epitopes on B*3501\n",
    "search_params={ 'linear_sequence': 'eq.'+my_favorite_epitope} #eq. here is a special postREST operator it abbreviates \"equal\"\n",
    "table_name='epitope_search'\n",
    "full_url=base_uri + '/' + table_name\n",
    "result = requests.get(full_url, params=search_params)\n",
    "print_curl_cmd(result)"
   ]
  },
  {
   "cell_type": "markdown",
   "id": "51f5a994-434c-4e9d-b9ee-5b0af9555464",
   "metadata": {},
   "source": [
    "We have the results. Inspect it:\n",
    "\n",
    "    what type is it?"
   ]
  },
  {
   "cell_type": "code",
   "execution_count": 44,
   "id": "1a0a0b25-5d12-449f-b40b-27f8ef10bb5d",
   "metadata": {},
   "outputs": [
    {
     "name": "stdout",
     "output_type": "stream",
     "text": [
      "Object `request.get` not found.\n"
     ]
    }
   ],
   "source": []
  },
  {
   "cell_type": "code",
   "execution_count": 29,
   "id": "bb2b8064-8d62-4a38-98b6-fe94126ee296",
   "metadata": {
    "tags": []
   },
   "outputs": [
    {
     "name": "stdout",
     "output_type": "stream",
     "text": [
      "The downloaded file is of type <class 'requests.models.Response'>\n"
     ]
    }
   ],
   "source": [
    "print(\"The downloaded file is of type\", type(result))"
   ]
  },
  {
   "cell_type": "markdown",
   "id": "689d6759-6b3a-4fff-9c01-1e56ea5c7731",
   "metadata": {},
   "source": [
    "We need to transform *class: 'requests.models.Response'* into something useful. The IEDB API Tutorial recommends turning into a data frame right away"
   ]
  },
  {
   "cell_type": "code",
   "execution_count": 30,
   "id": "178b952a-a394-48e0-a3eb-882bed8b2c1e",
   "metadata": {},
   "outputs": [
    {
     "name": "stdout",
     "output_type": "stream",
     "text": [
      "This is a data from of the following type: <class 'pandas.core.frame.DataFrame'>\n"
     ]
    },
    {
     "data": {
      "text/html": [
       "<div>\n",
       "<style scoped>\n",
       "    .dataframe tbody tr th:only-of-type {\n",
       "        vertical-align: middle;\n",
       "    }\n",
       "\n",
       "    .dataframe tbody tr th {\n",
       "        vertical-align: top;\n",
       "    }\n",
       "\n",
       "    .dataframe thead th {\n",
       "        text-align: right;\n",
       "    }\n",
       "</style>\n",
       "<table border=\"1\" class=\"dataframe\">\n",
       "  <thead>\n",
       "    <tr style=\"text-align: right;\">\n",
       "      <th></th>\n",
       "      <th>structure_id</th>\n",
       "      <th>structure_iri</th>\n",
       "      <th>structure_descriptions</th>\n",
       "      <th>curated_source_antigens</th>\n",
       "      <th>structure_type</th>\n",
       "      <th>linear_sequence</th>\n",
       "      <th>e_modification</th>\n",
       "      <th>linear_sequence_length</th>\n",
       "      <th>iedb_assay_ids</th>\n",
       "      <th>iedb_assay_iris</th>\n",
       "      <th>...</th>\n",
       "      <th>bcell_ids</th>\n",
       "      <th>bcell_iris</th>\n",
       "      <th>elution_ids</th>\n",
       "      <th>elution_iris</th>\n",
       "      <th>reference_types</th>\n",
       "      <th>pubmed_ids</th>\n",
       "      <th>reference_abstracts</th>\n",
       "      <th>reference_titles</th>\n",
       "      <th>reference_authors</th>\n",
       "      <th>reference_dates</th>\n",
       "    </tr>\n",
       "  </thead>\n",
       "  <tbody>\n",
       "    <tr>\n",
       "      <th>0</th>\n",
       "      <td>24536</td>\n",
       "      <td>IEDB_EPITOPE:24536</td>\n",
       "      <td>[HPVGEADYFEY]</td>\n",
       "      <td>[{'accession': 'AFY97913.1', 'name': 'EBNA-1',...</td>\n",
       "      <td>Linear peptide</td>\n",
       "      <td>HPVGEADYFEY</td>\n",
       "      <td>None</td>\n",
       "      <td>11</td>\n",
       "      <td>[5452, 1328890, 1328891, 1382633, 1382634, 138...</td>\n",
       "      <td>[IEDB_ASSAY:1328890, IEDB_ASSAY:1328891, IEDB_...</td>\n",
       "      <td>...</td>\n",
       "      <td>None</td>\n",
       "      <td>None</td>\n",
       "      <td>[1383248, 1383263, 1403131, 1403132, 1450643, ...</td>\n",
       "      <td>[IEDB_ASSAY:1383248, IEDB_ASSAY:1383263, IEDB_...</td>\n",
       "      <td>[Literature, Submission]</td>\n",
       "      <td>[11120837, 12576337, 14694109, 15148339, 15148...</td>\n",
       "      <td>[A classic feature of antigen presentation for...</td>\n",
       "      <td>[Allelic polymorphism in the T cell receptor a...</td>\n",
       "      <td>[Barbara Savoldo; John A Goss; Markus M Hammer...</td>\n",
       "      <td>[2000, 2003, 2004, 2005, 2006, 2007, 2008, 200...</td>\n",
       "    </tr>\n",
       "  </tbody>\n",
       "</table>\n",
       "<p>1 rows × 83 columns</p>\n",
       "</div>"
      ],
      "text/plain": [
       "   structure_id       structure_iri structure_descriptions  \\\n",
       "0         24536  IEDB_EPITOPE:24536          [HPVGEADYFEY]   \n",
       "\n",
       "                             curated_source_antigens  structure_type  \\\n",
       "0  [{'accession': 'AFY97913.1', 'name': 'EBNA-1',...  Linear peptide   \n",
       "\n",
       "  linear_sequence e_modification  linear_sequence_length  \\\n",
       "0     HPVGEADYFEY           None                      11   \n",
       "\n",
       "                                      iedb_assay_ids  \\\n",
       "0  [5452, 1328890, 1328891, 1382633, 1382634, 138...   \n",
       "\n",
       "                                     iedb_assay_iris  ... bcell_ids  \\\n",
       "0  [IEDB_ASSAY:1328890, IEDB_ASSAY:1328891, IEDB_...  ...      None   \n",
       "\n",
       "  bcell_iris                                        elution_ids  \\\n",
       "0       None  [1383248, 1383263, 1403131, 1403132, 1450643, ...   \n",
       "\n",
       "                                        elution_iris  \\\n",
       "0  [IEDB_ASSAY:1383248, IEDB_ASSAY:1383263, IEDB_...   \n",
       "\n",
       "            reference_types  \\\n",
       "0  [Literature, Submission]   \n",
       "\n",
       "                                          pubmed_ids  \\\n",
       "0  [11120837, 12576337, 14694109, 15148339, 15148...   \n",
       "\n",
       "                                 reference_abstracts  \\\n",
       "0  [A classic feature of antigen presentation for...   \n",
       "\n",
       "                                    reference_titles  \\\n",
       "0  [Allelic polymorphism in the T cell receptor a...   \n",
       "\n",
       "                                   reference_authors  \\\n",
       "0  [Barbara Savoldo; John A Goss; Markus M Hammer...   \n",
       "\n",
       "                                     reference_dates  \n",
       "0  [2000, 2003, 2004, 2005, 2006, 2007, 2008, 200...  \n",
       "\n",
       "[1 rows x 83 columns]"
      ]
     },
     "execution_count": 30,
     "metadata": {},
     "output_type": "execute_result"
    }
   ],
   "source": [
    "df = pd.json_normalize(result.json())\n",
    "print(\"This is a data from of the following type:\", type(df))\n",
    "df"
   ]
  },
  {
   "cell_type": "markdown",
   "id": "4fa8fa9d-6e87-473b-8fea-ad4dcbe9719f",
   "metadata": {},
   "source": [
    "The current dataframe has a single observation and 83 columns. That is because each epitope is represented as a row when using \"epitope_search\" with 83 different features.\n",
    "\n",
    "Next aims:\n",
    "- Inspect all column names\n",
    "- Let's redo the epitope search, but let's limit the number of columns to receive. \n",
    "- Let's performn the epitope search for a given HLA allele instead (e.g. B\\*35:01)"
   ]
  },
  {
   "cell_type": "code",
   "execution_count": 31,
   "id": "279f5c00-3d12-49aa-8c38-e6a098c62633",
   "metadata": {},
   "outputs": [
    {
     "data": {
      "text/plain": [
       "Index(['structure_id', 'structure_iri', 'structure_descriptions',\n",
       "       'curated_source_antigens', 'structure_type', 'linear_sequence',\n",
       "       'e_modification', 'linear_sequence_length', 'iedb_assay_ids',\n",
       "       'iedb_assay_iris', 'reference_ids', 'reference_iris', 'submission_ids',\n",
       "       'submission_iris', 'pdb_ids', 'chebi_ids', 'qualitative_measures',\n",
       "       'mhc_allele_evidences', 'antibody_isotypes', 'direct_ex_vivo_bool',\n",
       "       'receptor_ids', 'receptor_group_ids', 'tcr_receptor_group_ids',\n",
       "       'bcr_receptor_group_ids', 'receptor_group_iris',\n",
       "       'tcr_receptor_group_iris', 'bcr_receptor_group_iris', 'receptor_types',\n",
       "       'receptor_names', 'receptor_chain1_types', 'receptor_chain2_types',\n",
       "       'receptor_chain1_full_seqs', 'receptor_chain2_full_seqs',\n",
       "       'receptor_chain1_cdr1_seqs', 'receptor_chain2_cdr1_seqs',\n",
       "       'receptor_chain1_cdr2_seqs', 'receptor_chain2_cdr2_seqs',\n",
       "       'receptor_chain1_cdr3_seqs', 'receptor_chain2_cdr3_seqs',\n",
       "       'host_organism_iri_search', 'host_organism_iris', 'host_organism_names',\n",
       "       'source_organism_iri_search', 'source_organism_iris',\n",
       "       'source_organism_names', 'mhc_allele_iri_search', 'mhc_allele_iris',\n",
       "       'mhc_allele_names', 'parent_source_antigen_iri_search',\n",
       "       'parent_source_antigen_iris', 'parent_source_antigen_names',\n",
       "       'parent_source_antigen_source_org_iris',\n",
       "       'parent_source_antigen_source_org_names', 'disease_iri_search',\n",
       "       'disease_iris', 'disease_names', 'assay_iri_search', 'assay_iris',\n",
       "       'assay_names', 'non_peptidic_molecule_iri_search',\n",
       "       'non_peptidic_molecule_iris', 'non_peptidic_molecule_names',\n",
       "       'r_object_source_molecule_iri_search', 'r_object_source_molecule_iris',\n",
       "       'r_object_source_molecule_names', 'r_object_source_organism_iri_search',\n",
       "       'r_object_source_organism_iris', 'r_object_source_organism_names',\n",
       "       'mhc_classes', 'mhc_allele_resolutions', 'e_related_object_types',\n",
       "       'tcell_ids', 'tcell_iris', 'bcell_ids', 'bcell_iris', 'elution_ids',\n",
       "       'elution_iris', 'reference_types', 'pubmed_ids', 'reference_abstracts',\n",
       "       'reference_titles', 'reference_authors', 'reference_dates'],\n",
       "      dtype='object')"
      ]
     },
     "execution_count": 31,
     "metadata": {},
     "output_type": "execute_result"
    }
   ],
   "source": [
    "#Inspecting all column names\n",
    "df.columns"
   ]
  },
  {
   "cell_type": "markdown",
   "id": "f80cb366-92e8-49e7-9674-ec21cb9332c0",
   "metadata": {},
   "source": [
    "These are the column names in Epitope_search: \n",
    "          \n",
    "Of interest are:\n",
    "- curated_source_antigens\n",
    "- linear_sequence\n",
    "- e_modification\n",
    "- linear_sequence_length\n",
    "- mhc_allele_names\n",
    "- source_organism_names\n",
    "- iedb_assay_ids\n",
    "- reference_ids\n",
    "\n",
    "**These also doubles as search paramters**\n",
    "<br>See: https://query-api.iedb.org/docs/swagger/#/epitope_search/get_epitope_search\n"
   ]
  },
  {
   "cell_type": "code",
   "execution_count": 35,
   "id": "8e26b53d-b2d3-4087-96c9-19d42bd77fa1",
   "metadata": {},
   "outputs": [
    {
     "name": "stdout",
     "output_type": "stream",
     "text": [
      "This is the request url used with the curl cmd:\n",
      "curl -X 'GET' 'https://query-api.iedb.org/epitope_search?linear_sequence=eq.HPVGEADYFEY&select=curated_source_antigens%2C+linear_sequence%2C+e_modification%2C+linear_sequence_length%2C+mhc_allele_names%2C++++++++++++++++source_organism_names%2C+iedb_assay_ids%2C+reference_ids'\n"
     ]
    },
    {
     "data": {
      "text/html": [
       "<div>\n",
       "<style scoped>\n",
       "    .dataframe tbody tr th:only-of-type {\n",
       "        vertical-align: middle;\n",
       "    }\n",
       "\n",
       "    .dataframe tbody tr th {\n",
       "        vertical-align: top;\n",
       "    }\n",
       "\n",
       "    .dataframe thead th {\n",
       "        text-align: right;\n",
       "    }\n",
       "</style>\n",
       "<table border=\"1\" class=\"dataframe\">\n",
       "  <thead>\n",
       "    <tr style=\"text-align: right;\">\n",
       "      <th></th>\n",
       "      <th>curated_source_antigens</th>\n",
       "      <th>linear_sequence</th>\n",
       "      <th>e_modification</th>\n",
       "      <th>linear_sequence_length</th>\n",
       "      <th>mhc_allele_names</th>\n",
       "      <th>source_organism_names</th>\n",
       "      <th>iedb_assay_ids</th>\n",
       "      <th>reference_ids</th>\n",
       "    </tr>\n",
       "  </thead>\n",
       "  <tbody>\n",
       "    <tr>\n",
       "      <th>0</th>\n",
       "      <td>[{'accession': 'AFY97913.1', 'name': 'EBNA-1',...</td>\n",
       "      <td>HPVGEADYFEY</td>\n",
       "      <td>None</td>\n",
       "      <td>11</td>\n",
       "      <td>[HLA-A*02:01, HLA-A2, HLA-B*07:02, HLA-B*08:01...</td>\n",
       "      <td>[Human herpesvirus 4 (Epstein Barr virus), Hum...</td>\n",
       "      <td>[5452, 1328890, 1328891, 1382633, 1382634, 138...</td>\n",
       "      <td>[589, 1002081, 1004304, 1004493, 1004495, 1004...</td>\n",
       "    </tr>\n",
       "  </tbody>\n",
       "</table>\n",
       "</div>"
      ],
      "text/plain": [
       "                             curated_source_antigens linear_sequence  \\\n",
       "0  [{'accession': 'AFY97913.1', 'name': 'EBNA-1',...     HPVGEADYFEY   \n",
       "\n",
       "  e_modification  linear_sequence_length  \\\n",
       "0           None                      11   \n",
       "\n",
       "                                    mhc_allele_names  \\\n",
       "0  [HLA-A*02:01, HLA-A2, HLA-B*07:02, HLA-B*08:01...   \n",
       "\n",
       "                               source_organism_names  \\\n",
       "0  [Human herpesvirus 4 (Epstein Barr virus), Hum...   \n",
       "\n",
       "                                      iedb_assay_ids  \\\n",
       "0  [5452, 1328890, 1328891, 1382633, 1382634, 138...   \n",
       "\n",
       "                                       reference_ids  \n",
       "0  [589, 1002081, 1004304, 1004493, 1004495, 1004...  "
      ]
     },
     "execution_count": 35,
     "metadata": {},
     "output_type": "execute_result"
    }
   ],
   "source": [
    "#This code now selects the the exact columns we are interested in from within the IEDB API before the resulting df is generated\n",
    "search_params={  'linear_sequence': 'eq.'+my_favorite_epitope,\n",
    "                'select': 'curated_source_antigens, linear_sequence, e_modification, linear_sequence_length, mhc_allele_names,\\\n",
    "                source_organism_names, iedb_assay_ids, reference_ids'}\n",
    "result = requests.get(full_url, params=search_params)\n",
    "print_curl_cmd(result)\n",
    "df = pd.json_normalize(result.json())\n",
    "df"
   ]
  },
  {
   "cell_type": "markdown",
   "id": "0574d3d7-2c1e-4d34-b762-2f92502b72d2",
   "metadata": {},
   "source": [
    "From the tutorial: \n",
    "    \"Note the additional complexity in the URL of the last query **There are two parameters (linear_sequence & select)**, multiple values for the latter parameter, and many URL escape codes for the commas. Python's 'request' module handles this all for you, but one should be aware that all portions of the query need to be URL-escaped.\""
   ]
  },
  {
   "cell_type": "markdown",
   "id": "955d9421-e9bf-4bf3-bc8b-8262e0f647cd",
   "metadata": {},
   "source": [
    "# Downloading information on a all epitopes in Epitope_search"
   ]
  },
  {
   "cell_type": "code",
   "execution_count": 36,
   "id": "f84b5794-86a1-453a-a6be-307b537997c4",
   "metadata": {},
   "outputs": [
    {
     "name": "stdout",
     "output_type": "stream",
     "text": [
      "This is the request url used with the curl cmd:\n",
      "curl -X 'GET' 'https://query-api.iedb.org/epitope_search?select=curated_source_antigens%2C+linear_sequence%2C+e_modification%2C+linear_sequence_length%2C+mhc_allele_names%2C++++++++++++++++source_organism_names%2C+iedb_assay_ids%2C+reference_ids'\n"
     ]
    },
    {
     "data": {
      "text/html": [
       "<div>\n",
       "<style scoped>\n",
       "    .dataframe tbody tr th:only-of-type {\n",
       "        vertical-align: middle;\n",
       "    }\n",
       "\n",
       "    .dataframe tbody tr th {\n",
       "        vertical-align: top;\n",
       "    }\n",
       "\n",
       "    .dataframe thead th {\n",
       "        text-align: right;\n",
       "    }\n",
       "</style>\n",
       "<table border=\"1\" class=\"dataframe\">\n",
       "  <thead>\n",
       "    <tr style=\"text-align: right;\">\n",
       "      <th></th>\n",
       "      <th>curated_source_antigens</th>\n",
       "      <th>linear_sequence</th>\n",
       "      <th>e_modification</th>\n",
       "      <th>linear_sequence_length</th>\n",
       "      <th>mhc_allele_names</th>\n",
       "      <th>source_organism_names</th>\n",
       "      <th>iedb_assay_ids</th>\n",
       "      <th>reference_ids</th>\n",
       "    </tr>\n",
       "  </thead>\n",
       "  <tbody>\n",
       "    <tr>\n",
       "      <th>0</th>\n",
       "      <td>[{'accession': 'P26664.3', 'name': 'Genome pol...</td>\n",
       "      <td>GDLCGSVFL</td>\n",
       "      <td>None</td>\n",
       "      <td>9</td>\n",
       "      <td>[H2-Kk, Mamu-A1*011:01]</td>\n",
       "      <td>[Hepatitis C virus (isolate 1)]</td>\n",
       "      <td>[1182763, 1182764]</td>\n",
       "      <td>[1000983]</td>\n",
       "    </tr>\n",
       "    <tr>\n",
       "      <th>1</th>\n",
       "      <td>[{'accession': 'AAB59097.1', 'name': 'exotoxin...</td>\n",
       "      <td>GDLDPSSIPDKEQAISALPD</td>\n",
       "      <td>None</td>\n",
       "      <td>20</td>\n",
       "      <td>None</td>\n",
       "      <td>[Pseudomonas aeruginosa]</td>\n",
       "      <td>[1269457]</td>\n",
       "      <td>[1001199]</td>\n",
       "    </tr>\n",
       "    <tr>\n",
       "      <th>2</th>\n",
       "      <td>[{'accession': 'P08318.1', 'name': 'Large stru...</td>\n",
       "      <td>GDLFSGDEDSDSSDG</td>\n",
       "      <td>None</td>\n",
       "      <td>15</td>\n",
       "      <td>None</td>\n",
       "      <td>[Human herpesvirus 5 (Human cytomegalovirus)]</td>\n",
       "      <td>[1382552]</td>\n",
       "      <td>[1004651]</td>\n",
       "    </tr>\n",
       "    <tr>\n",
       "      <th>3</th>\n",
       "      <td>[{'accession': 'YP_001623301.1', 'name': 'cell...</td>\n",
       "      <td>GDLGKKGFEDGDLVV</td>\n",
       "      <td>None</td>\n",
       "      <td>15</td>\n",
       "      <td>None</td>\n",
       "      <td>[Renibacterium salmoninarum]</td>\n",
       "      <td>[1478738, 1478739]</td>\n",
       "      <td>[1006177]</td>\n",
       "    </tr>\n",
       "    <tr>\n",
       "      <th>4</th>\n",
       "      <td>[{'accession': 'P03306.2', 'name': 'Genome pol...</td>\n",
       "      <td>GDLGSIA</td>\n",
       "      <td>None</td>\n",
       "      <td>7</td>\n",
       "      <td>None</td>\n",
       "      <td>[Foot-and-mouth disease virus (strain A10-61)]</td>\n",
       "      <td>[1480902, 1480903, 1480906, 1480907, 1480909, ...</td>\n",
       "      <td>[1008339, 1010423]</td>\n",
       "    </tr>\n",
       "    <tr>\n",
       "      <th>...</th>\n",
       "      <td>...</td>\n",
       "      <td>...</td>\n",
       "      <td>...</td>\n",
       "      <td>...</td>\n",
       "      <td>...</td>\n",
       "      <td>...</td>\n",
       "      <td>...</td>\n",
       "      <td>...</td>\n",
       "    </tr>\n",
       "    <tr>\n",
       "      <th>9995</th>\n",
       "      <td>[{'accession': 'P03468.2', 'name': 'Neuraminid...</td>\n",
       "      <td>ITYKNSTWVK</td>\n",
       "      <td>None</td>\n",
       "      <td>10</td>\n",
       "      <td>[H2-Db]</td>\n",
       "      <td>[Influenza A virus (A/Puerto Rico/8/1934(H1N1)...</td>\n",
       "      <td>[1006289, 1006290]</td>\n",
       "      <td>[1000168]</td>\n",
       "    </tr>\n",
       "    <tr>\n",
       "      <th>9996</th>\n",
       "      <td>[{'accession': 'AAB00381.1', 'name': 'S1 glyco...</td>\n",
       "      <td>ITYKVMREVRALAYFVNGTA</td>\n",
       "      <td>None</td>\n",
       "      <td>20</td>\n",
       "      <td>[chicken]</td>\n",
       "      <td>[Avian infectious bronchitis virus (strain Vic...</td>\n",
       "      <td>[1498067, 1498075, 1498257, 1498284, 1500789]</td>\n",
       "      <td>[1013036]</td>\n",
       "    </tr>\n",
       "    <tr>\n",
       "      <th>9997</th>\n",
       "      <td>[{'accession': 'AAA69398.1', 'name': 'D7R', 'i...</td>\n",
       "      <td>ITYLMNRFK</td>\n",
       "      <td>None</td>\n",
       "      <td>9</td>\n",
       "      <td>[HLA-A*03:01, HLA-A*11:01, HLA-A*30:01, HLA-A*...</td>\n",
       "      <td>[Camelpox virus M-96, Vaccinia virus Copenhage...</td>\n",
       "      <td>[1301052, 1301053, 1301054, 1301055, 1301056, ...</td>\n",
       "      <td>[1001865, 1003530, 1006442, 1014017, 1028287, ...</td>\n",
       "    </tr>\n",
       "    <tr>\n",
       "      <th>9998</th>\n",
       "      <td>[{'accession': 'AAB96556.1', 'name': '68k anky...</td>\n",
       "      <td>ITYLMNRFKNIDI</td>\n",
       "      <td>None</td>\n",
       "      <td>13</td>\n",
       "      <td>[human]</td>\n",
       "      <td>[Modified Vaccinia Ankara virus (MVA virus)]</td>\n",
       "      <td>[1502511]</td>\n",
       "      <td>[1007651]</td>\n",
       "    </tr>\n",
       "    <tr>\n",
       "      <th>9999</th>\n",
       "      <td>[{'accession': 'P13811.1', 'name': 'Heat-labil...</td>\n",
       "      <td>ITYLTETKID</td>\n",
       "      <td>None</td>\n",
       "      <td>10</td>\n",
       "      <td>[H2-d class II]</td>\n",
       "      <td>[Escherichia coli ETEC H10407 (Escherichia col...</td>\n",
       "      <td>[1269927, 1270260, 1270540, 1270550, 1273658, ...</td>\n",
       "      <td>[1000553]</td>\n",
       "    </tr>\n",
       "  </tbody>\n",
       "</table>\n",
       "<p>10000 rows × 8 columns</p>\n",
       "</div>"
      ],
      "text/plain": [
       "                                curated_source_antigens       linear_sequence  \\\n",
       "0     [{'accession': 'P26664.3', 'name': 'Genome pol...             GDLCGSVFL   \n",
       "1     [{'accession': 'AAB59097.1', 'name': 'exotoxin...  GDLDPSSIPDKEQAISALPD   \n",
       "2     [{'accession': 'P08318.1', 'name': 'Large stru...       GDLFSGDEDSDSSDG   \n",
       "3     [{'accession': 'YP_001623301.1', 'name': 'cell...       GDLGKKGFEDGDLVV   \n",
       "4     [{'accession': 'P03306.2', 'name': 'Genome pol...               GDLGSIA   \n",
       "...                                                 ...                   ...   \n",
       "9995  [{'accession': 'P03468.2', 'name': 'Neuraminid...            ITYKNSTWVK   \n",
       "9996  [{'accession': 'AAB00381.1', 'name': 'S1 glyco...  ITYKVMREVRALAYFVNGTA   \n",
       "9997  [{'accession': 'AAA69398.1', 'name': 'D7R', 'i...             ITYLMNRFK   \n",
       "9998  [{'accession': 'AAB96556.1', 'name': '68k anky...         ITYLMNRFKNIDI   \n",
       "9999  [{'accession': 'P13811.1', 'name': 'Heat-labil...            ITYLTETKID   \n",
       "\n",
       "     e_modification  linear_sequence_length  \\\n",
       "0              None                       9   \n",
       "1              None                      20   \n",
       "2              None                      15   \n",
       "3              None                      15   \n",
       "4              None                       7   \n",
       "...             ...                     ...   \n",
       "9995           None                      10   \n",
       "9996           None                      20   \n",
       "9997           None                       9   \n",
       "9998           None                      13   \n",
       "9999           None                      10   \n",
       "\n",
       "                                       mhc_allele_names  \\\n",
       "0                               [H2-Kk, Mamu-A1*011:01]   \n",
       "1                                                  None   \n",
       "2                                                  None   \n",
       "3                                                  None   \n",
       "4                                                  None   \n",
       "...                                                 ...   \n",
       "9995                                            [H2-Db]   \n",
       "9996                                          [chicken]   \n",
       "9997  [HLA-A*03:01, HLA-A*11:01, HLA-A*30:01, HLA-A*...   \n",
       "9998                                            [human]   \n",
       "9999                                    [H2-d class II]   \n",
       "\n",
       "                                  source_organism_names  \\\n",
       "0                       [Hepatitis C virus (isolate 1)]   \n",
       "1                              [Pseudomonas aeruginosa]   \n",
       "2         [Human herpesvirus 5 (Human cytomegalovirus)]   \n",
       "3                          [Renibacterium salmoninarum]   \n",
       "4        [Foot-and-mouth disease virus (strain A10-61)]   \n",
       "...                                                 ...   \n",
       "9995  [Influenza A virus (A/Puerto Rico/8/1934(H1N1)...   \n",
       "9996  [Avian infectious bronchitis virus (strain Vic...   \n",
       "9997  [Camelpox virus M-96, Vaccinia virus Copenhage...   \n",
       "9998       [Modified Vaccinia Ankara virus (MVA virus)]   \n",
       "9999  [Escherichia coli ETEC H10407 (Escherichia col...   \n",
       "\n",
       "                                         iedb_assay_ids  \\\n",
       "0                                    [1182763, 1182764]   \n",
       "1                                             [1269457]   \n",
       "2                                             [1382552]   \n",
       "3                                    [1478738, 1478739]   \n",
       "4     [1480902, 1480903, 1480906, 1480907, 1480909, ...   \n",
       "...                                                 ...   \n",
       "9995                                 [1006289, 1006290]   \n",
       "9996      [1498067, 1498075, 1498257, 1498284, 1500789]   \n",
       "9997  [1301052, 1301053, 1301054, 1301055, 1301056, ...   \n",
       "9998                                          [1502511]   \n",
       "9999  [1269927, 1270260, 1270540, 1270550, 1273658, ...   \n",
       "\n",
       "                                          reference_ids  \n",
       "0                                             [1000983]  \n",
       "1                                             [1001199]  \n",
       "2                                             [1004651]  \n",
       "3                                             [1006177]  \n",
       "4                                    [1008339, 1010423]  \n",
       "...                                                 ...  \n",
       "9995                                          [1000168]  \n",
       "9996                                          [1013036]  \n",
       "9997  [1001865, 1003530, 1006442, 1014017, 1028287, ...  \n",
       "9998                                          [1007651]  \n",
       "9999                                          [1000553]  \n",
       "\n",
       "[10000 rows x 8 columns]"
      ]
     },
     "execution_count": 36,
     "metadata": {},
     "output_type": "execute_result"
    }
   ],
   "source": [
    "#See title\n",
    "search_params={  'select': 'curated_source_antigens, linear_sequence, e_modification, linear_sequence_length, mhc_allele_names,\\\n",
    "                source_organism_names, iedb_assay_ids, reference_ids'} \n",
    "table_name='epitope_search'\n",
    "full_url=base_uri + '/' + table_name\n",
    "result = requests.get(full_url, params=search_params)\n",
    "print_curl_cmd(result)\n",
    "df = pd.json_normalize(result.json())"
   ]
  },
  {
   "cell_type": "markdown",
   "id": "fd597c43-41bf-427b-b19a-547dc98e3bf3",
   "metadata": {},
   "source": [
    "Inspect the data frame: \n",
    "- shape\n",
    "- sample\n",
    "- linear_sequence_length"
   ]
  },
  {
   "cell_type": "code",
   "execution_count": 37,
   "id": "5495b1f5-ca27-49de-8f5d-5210d0715145",
   "metadata": {},
   "outputs": [
    {
     "data": {
      "text/plain": [
       "(10000, 8)"
      ]
     },
     "execution_count": 37,
     "metadata": {},
     "output_type": "execute_result"
    }
   ],
   "source": [
    "df.shape"
   ]
  },
  {
   "cell_type": "markdown",
   "id": "dc6e0506-486a-4318-b021-672dd0e247ed",
   "metadata": {},
   "source": [
    "**HUH**, it appear wierd that there are exactly 10.000 rows. There should be more... \n",
    "How many epitopes is within IEDB currently?\n",
    "- (26-08-2021) 39868 epitopes are available. There most be a limit or something on the API.. \n",
    "\n",
    "Interesting: \n",
    "    The default request is 10.000, any more will be hidden on a different \"page\"\n",
    "    <br> *By default, the IQ-API has a maximum page size of 10,000 records. In practice, this means that queries that result in more than 10,000 results will be divided into pages and only the first 10,000 records will be returned by the initial query. The API will always return a count of the records matching the query, as well as the number of pages of results. \n",
    "    \n",
    "There ARE a way to download all hits. But, it requires me to use the curl command in the terminal.\n",
    "\n",
    "## Download Epitope_search and Assay_search by using the terminal"
   ]
  },
  {
   "cell_type": "code",
   "execution_count": 50,
   "id": "714457a1-61cb-431d-82a4-d07e886b7d79",
   "metadata": {},
   "outputs": [
    {
     "name": "stdout",
     "output_type": "stream",
     "text": [
      "https://query-api.iedb.org\n",
      "https://query-api.iedb.org/epitope_search\n"
     ]
    }
   ],
   "source": [
    "#Define the epitope_search url\n",
    "search_params={  'select': 'curated_source_antigens, linear_sequence, e_modification, linear_sequence_length, mhc_allele_names,\\\n",
    "                source_organism_names, iedb_assay_ids, reference_ids'} \n",
    "table_name='epitope_search'\n",
    "print(base_uri)\n",
    "full_url=base_uri + '/' + table_name\n",
    "print(full_url)"
   ]
  },
  {
   "cell_type": "code",
   "execution_count": 51,
   "id": "6ff0aefa-6c98-48b4-b7e2-716694786715",
   "metadata": {},
   "outputs": [
    {
     "name": "stdout",
     "output_type": "stream",
     "text": [
      "https://query-api.iedb.org\n",
      "https://query-api.iedb.org/antigen_search\n"
     ]
    }
   ],
   "source": [
    "#Define the Antigen_search url\n",
    "search_params={  'select': 'curated_source_antigens, linear_sequence, e_modification, linear_sequence_length, mhc_allele_names,\\\n",
    "                source_organism_names, iedb_assay_ids, reference_ids'} \n",
    "table_name='antigen_search'\n",
    "print(base_uri)\n",
    "full_url=base_uri + '/' + table_name\n",
    "print(full_url)"
   ]
  },
  {
   "cell_type": "markdown",
   "id": "d1afabc5-63d1-41a9-8b5d-965c9c9935cd",
   "metadata": {},
   "source": [
    "#In the terminal: \n",
    "```bash\n",
    "$ curl -I \"https://query-api.iedb.org/epitope_search\" -H 'Prefer: count=exact'\n",
    "HTTP/1.1 206 Partial Content\n",
    "Server: nginx/1.14.2\n",
    "Date: Thu, 26 Aug 2021 17:33:11 GMT\n",
    "Content-Type: application/json; charset=utf-8\n",
    "Connection: keep-alive\n",
    "Content-Range: 0-9999/1535288\n",
    "Content-Location: /epitope_search\n",
    "```"
   ]
  },
  {
   "cell_type": "markdown",
   "id": "0f79760f-0292-4bf3-b36b-3b89f6fd2834",
   "metadata": {},
   "source": [
    "From the abovee, I can see that:\n",
    "- There are 1535288 entries in the epitope_search database\n",
    "\n",
    "I can access any part of the database above 9999 by specifying the offset paramter in the url\n",
    "\n",
    "```bash\n",
    "$ curl -I \"https://query-api.iedb.org/antigen_search?offset=10000\" -H 'Prefer: count=exact'\n",
    "HTTP/1.1 206 Partial Content\n",
    "Server: nginx/1.14.2\n",
    "Date: Thu, 26 Aug 2021 17:41:01 GMT\n",
    "Content-Type: application/json; charset=utf-8\n",
    "Connection: keep-alive\n",
    "Content-Range: 10000-19999/73218\n",
    "Content-Location: /antigen_search?offset=10000\n",
    "```\n"
   ]
  },
  {
   "cell_type": "markdown",
   "id": "c5c7ac32-a18d-4cc8-afed-99b35d2b49d4",
   "metadata": {},
   "source": [
    "### Downloading information has to be done in chunks followed with merging\n",
    "\n",
    "Aims:\n",
    "- Create a simple bash script to download, store and bind datasets together for Epitope_search\n",
    "- Do the same for assay_search"
   ]
  },
  {
   "cell_type": "code",
   "execution_count": null,
   "id": "bd74cd0a-bd59-4047-94b1-aa099976f441",
   "metadata": {},
   "outputs": [],
   "source": []
  }
 ],
 "metadata": {
  "kernelspec": {
   "display_name": "Python 3",
   "language": "python",
   "name": "python3"
  },
  "language_info": {
   "codemirror_mode": {
    "name": "ipython",
    "version": 3
   },
   "file_extension": ".py",
   "mimetype": "text/x-python",
   "name": "python",
   "nbconvert_exporter": "python",
   "pygments_lexer": "ipython3",
   "version": "3.8.8"
  }
 },
 "nbformat": 4,
 "nbformat_minor": 5
}

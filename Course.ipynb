{
 "cells": [
  {
   "cell_type": "markdown",
   "id": "e255da2b-1983-46f2-97d3-8ef6687e1acd",
   "metadata": {},
   "source": [
    "# Use version control (Git), and create a script to automatically visualize my favorite database\\n\",\n",
    "Author: Nikolaj Pagh Kristensen\n",
    "\n",
    "Background: My two favorite databases that I often use in my project contains information T-cell targets and T-cell receptor(TCR) sequences. These are: IEDB(http://www.iedb.org/) and VDJdb (https://vdjdb.cdr3.net/ named after the V, D and J segments of the TCR). I wish to create a script that automatically imports a subset of the database, calculate summary statistics for my favorite groups of T-cells. Furthermore, I wish to visualize summary statistics of the database in it's current form.\n",
    "\n",
    "To break it up into subgoals:\n",
    "1. Create a github repository\\n\",\n",
    "1. Create the necessary initial files according to public guides (https://kbroman.org/github_tutorial/pages/init.html)\n",
    "1. Look for an API to download IEDB data with (if possible). Download only data relevant for CD8 T cells. \n",
    "1. What epitope length is cataloged for each HLA?\n",
    "1. What virual antigens are frequently targeted by T-cells?\n",
    "1. What viruses do the database contain information on, and how many epitopes?\n",
    "\n",
    "Extra things:\n",
    "1. Do something similar but with VDJdb\n",
    "2. Perform sequence analysis of epitopes. Generate clusters of epitopes based on sequence similarity."
   ]
  },
  {
   "cell_type": "markdown",
   "id": "e2a361d1-2753-4c98-8095-b16d54c9915a",
   "metadata": {},
   "source": [
    "# Start a new github repository\n",
    "From the terminal I will execute the following,\n",
    "1. Make new dirs (Python_projects and Python_projects/Course_work),\n",
    "2. Initialize git by typing git init within the Python_course_report folder:`git init`,\n",
    "3. Generate a README file (Markdown) as well as a .gitingore `touch .gitignore`,\n",
    "4. Move this file there."
   ]
  },
  {
   "cell_type": "code",
   "execution_count": null,
   "id": "76d5327f-6b7a-455c-90d2-ca0778061d31",
   "metadata": {},
   "outputs": [],
   "source": []
  }
 ],
 "metadata": {
  "kernelspec": {
   "display_name": "Python 3",
   "language": "python",
   "name": "python3"
  },
  "language_info": {
   "codemirror_mode": {
    "name": "ipython",
    "version": 3
   },
   "file_extension": ".py",
   "mimetype": "text/x-python",
   "name": "python",
   "nbconvert_exporter": "python",
   "pygments_lexer": "ipython3",
   "version": "3.8.8"
  }
 },
 "nbformat": 4,
 "nbformat_minor": 5
}

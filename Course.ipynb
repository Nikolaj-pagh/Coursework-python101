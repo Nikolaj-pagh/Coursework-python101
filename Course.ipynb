{
 "cells": [
  {
   "cell_type": "markdown",
   "id": "e255da2b-1983-46f2-97d3-8ef6687e1acd",
   "metadata": {},
   "source": [
    "# Use version control (Git), and create a script to automatically visualize my favorite database\n",
    "Author: Nikolaj Pagh Kristensen\n",
    "\n",
    "Background: My two favorite databases that I often use in my project contains information T-cell targets and T-cell receptor(TCR) sequences. These are: IEDB(http://www.iedb.org/) and VDJdb (https://vdjdb.cdr3.net/ named after the V, D and J segments of the TCR). I wish to create a script that automatically imports a subset of the database, calculate summary statistics for my favorite groups of T-cells. Furthermore, I wish to visualize summary statistics of the database in it's current form.\n",
    "\n",
    "To break it up into subgoals:\n",
    "1. Create a github repository\",\n",
    "1. Create the necessary initial files according to public guides (https://kbroman.org/github_tutorial/pages/init.html)\n",
    "1. Look for an API to download IEDB data with (if possible). Download only data relevant for CD8 T cells. \n",
    "1. What epitope length is cataloged for each HLA?\n",
    "1. What virual antigens are frequently targeted by T-cells?\n",
    "1. What viruses do the database contain information on, and how many epitopes?\n",
    "\n",
    "Extra things:\n",
    "1. Do something similar but with VDJdb\n",
    "2. Perform sequence analysis of epitopes. Generate clusters of epitopes based on sequence similarity."
   ]
  },
  {
   "cell_type": "markdown",
   "id": "e2a361d1-2753-4c98-8095-b16d54c9915a",
   "metadata": {},
   "source": [
    "# Start a new github repository and start keeping track of version tags\n",
    "From the terminal I will execute the following,\n",
    "1. Make new dirs (Python_projects and Python_projects/Course_work),\n",
    "2. Initialize git by typing git init within the Python_course_report folder:`git init`,\n",
    "3. Generate a README file (Markdown) as well as a .gitingore `touch .gitignore`,\n",
    "1. Use `git add` to add files to the staging area\n",
    "1. Use `git commit -m` to commint the stagining area together with a required comment\n",
    "\n",
    "I double cheched my commit by using `git log`\n",
    "\n",
    "Version numbering is a good practice: https://stackoverflow.com/questions/37814286/how-to-manage-the-version-number-in-git\n",
    "    The general nomenclature is: `[major].[minor].[patch]-[build/beta/rc]`\n",
    "\n",
    "1. Use initial `git tag -a v0.1.0 -m \"Initial version\"`\n",
    "2. inspect tags using `git describe` succesfully returned a list of versions for the git repo\n"
   ]
  },
  {
   "cell_type": "markdown",
   "id": "18340cea-0b49-425f-9bd6-0fce2ff102ae",
   "metadata": {},
   "source": [
    "# Scrape IEDB for data\n",
    "IEDB released an API to collect information directly on the command line or in your Jupyter notbook. The API postREST platform (https://postgrest.org/en/stable/), which has a list of functions and operators that are useful to know (https://postgrest.org/en/v7.0.0/api.html. For more information how it was implemented in the IEDB API see: https://query-api.iedb.org/docs/swagger/ and seek help here: https://help.iedb.org/hc/en-us/articles/4402872882189-Immune-Epitope-Database-Query-API-IQ-API-\n",
    "\n",
    "## Core endpoints from the API\n",
    "While there are many endpoints provided, we expect the majority of users will want to search against one or more of the following tables, which correspond to the tabbed search results on the IEDB. \n",
    "\n",
    "    epitope_search\n",
    "    antigen_search\n",
    "    tcell_search (assays) \n",
    "    bcell_search (assays)\n",
    "    mhc_search (assays)\n",
    "    tcr_search (receptors)\n",
    "    bcr_search (receptors)\n",
    "    reference_search\n",
    "\n",
    "We're mainly interested in:\n",
    "\n",
    "    epitope_search\n",
    "    tcell_search (assays) \n",
    "    tcr_search (receptors)\n",
    "   \n",
    "A good example is found in file: use_case_1a.ipynb. As this is not my example, I have chosen to hide it with .gitignore\n",
    "***\n",
    "## Downloading information on a single epitope in a tabular format\n",
    "This is described in the tutorial: use_case_1a.ipynb. \n",
    "<br>Let's start with the necessary packages:"
   ]
  },
  {
   "cell_type": "code",
   "execution_count": 29,
   "id": "541cbef1-878a-43b8-b82c-4649d3a9e308",
   "metadata": {},
   "outputs": [],
   "source": [
    "import requests\n",
    "import json\n",
    "import pandas as pd\n",
    "from io import StringIO"
   ]
  },
  {
   "cell_type": "markdown",
   "id": "8004527c-bed9-4a6c-8c92-514e1d7f0db1",
   "metadata": {},
   "source": [
    "Let's define the url that we will be sending requests to. "
   ]
  },
  {
   "cell_type": "code",
   "execution_count": 3,
   "id": "c7d87013-d5cc-410f-b09d-0c6051878ee2",
   "metadata": {},
   "outputs": [],
   "source": [
    "base_uri='https://query-api.iedb.org'"
   ]
  },
  {
   "cell_type": "markdown",
   "id": "3e8028dc-f950-4195-81de-a847c23f4767",
   "metadata": {},
   "source": [
    "The user-case recommends a function to print the CURL command given a request:"
   ]
  },
  {
   "cell_type": "code",
   "execution_count": 22,
   "id": "e6fabdd2-531b-4db0-895a-b6a57c35389f",
   "metadata": {},
   "outputs": [],
   "source": [
    "# funciton to print the CURL command given a request\n",
    "    #req is the request, a request\n",
    "def print_curl_cmd(req):\n",
    "    url = req.url\n",
    "    print(\"This is the request url used with the curl cmd:\") #My addition\n",
    "    print(\"curl -X 'GET' '\" + url + \"'\")"
   ]
  },
  {
   "cell_type": "markdown",
   "id": "e3d16f38-33f5-495a-82cd-0222732ab733",
   "metadata": {},
   "source": [
    "The first search should be *simple*, meaning that we will download all information related to a single epitope (my favorite epitope)\n",
    "1. Define my_favorite_epitope\n",
    "1. Define my search paramters (Fx: search_params={ 'linear_sequence': 'eq.SIINFEKL'}\n",
    "2. Define the table_name (what information to search for\n",
    "3. Define the full url of the table that we search for\n",
    "4. fetch the result by parsing the full URL to requests.get, searching for your search paramters, saving the download in results. \n",
    "5. print the curl -x get command "
   ]
  },
  {
   "cell_type": "code",
   "execution_count": 28,
   "id": "c10bd77b-080c-4db5-800b-3b9bda05550c",
   "metadata": {},
   "outputs": [
    {
     "name": "stdout",
     "output_type": "stream",
     "text": [
      "This is the request url used with the curl cmd:\n",
      "curl -X 'GET' 'https://query-api.iedb.org/epitope_search?linear_sequence=eq.HPVGEADYFEY'\n"
     ]
    }
   ],
   "source": [
    "my_favorite_epitope = \"HPVGEADYFEY\"  #HPVGEADYFEY is one of the longest, dominant epitopes on B*3501\n",
    "search_params={ 'linear_sequence': 'eq.'+my_favorite_epitope} #eq. here is a special postREST operator it abbreviates \"equal\"\n",
    "table_name='epitope_search'\n",
    "full_url=base_uri + '/' + table_name\n",
    "result = requests.get(full_url, params=search_params)\n",
    "print_curl_cmd(result)"
   ]
  },
  {
   "cell_type": "markdown",
   "id": "51f5a994-434c-4e9d-b9ee-5b0af9555464",
   "metadata": {},
   "source": [
    "We have the results. Inspect it:\n",
    "\n",
    "    what type is it?"
   ]
  },
  {
   "cell_type": "code",
   "execution_count": 44,
   "id": "1a0a0b25-5d12-449f-b40b-27f8ef10bb5d",
   "metadata": {},
   "outputs": [
    {
     "name": "stdout",
     "output_type": "stream",
     "text": [
      "Object `request.get` not found.\n"
     ]
    }
   ],
   "source": []
  },
  {
   "cell_type": "code",
   "execution_count": 29,
   "id": "bb2b8064-8d62-4a38-98b6-fe94126ee296",
   "metadata": {
    "tags": []
   },
   "outputs": [
    {
     "name": "stdout",
     "output_type": "stream",
     "text": [
      "The downloaded file is of type <class 'requests.models.Response'>\n"
     ]
    }
   ],
   "source": [
    "print(\"The downloaded file is of type\", type(result))"
   ]
  },
  {
   "cell_type": "markdown",
   "id": "689d6759-6b3a-4fff-9c01-1e56ea5c7731",
   "metadata": {},
   "source": [
    "We need to transform *class: 'requests.models.Response'* into something useful. The IEDB API Tutorial recommends turning into a data frame right away"
   ]
  },
  {
   "cell_type": "code",
   "execution_count": 30,
   "id": "178b952a-a394-48e0-a3eb-882bed8b2c1e",
   "metadata": {},
   "outputs": [
    {
     "name": "stdout",
     "output_type": "stream",
     "text": [
      "This is a data from of the following type: <class 'pandas.core.frame.DataFrame'>\n"
     ]
    },
    {
     "data": {
      "text/html": [
       "<div>\n",
       "<style scoped>\n",
       "    .dataframe tbody tr th:only-of-type {\n",
       "        vertical-align: middle;\n",
       "    }\n",
       "\n",
       "    .dataframe tbody tr th {\n",
       "        vertical-align: top;\n",
       "    }\n",
       "\n",
       "    .dataframe thead th {\n",
       "        text-align: right;\n",
       "    }\n",
       "</style>\n",
       "<table border=\"1\" class=\"dataframe\">\n",
       "  <thead>\n",
       "    <tr style=\"text-align: right;\">\n",
       "      <th></th>\n",
       "      <th>structure_id</th>\n",
       "      <th>structure_iri</th>\n",
       "      <th>structure_descriptions</th>\n",
       "      <th>curated_source_antigens</th>\n",
       "      <th>structure_type</th>\n",
       "      <th>linear_sequence</th>\n",
       "      <th>e_modification</th>\n",
       "      <th>linear_sequence_length</th>\n",
       "      <th>iedb_assay_ids</th>\n",
       "      <th>iedb_assay_iris</th>\n",
       "      <th>...</th>\n",
       "      <th>bcell_ids</th>\n",
       "      <th>bcell_iris</th>\n",
       "      <th>elution_ids</th>\n",
       "      <th>elution_iris</th>\n",
       "      <th>reference_types</th>\n",
       "      <th>pubmed_ids</th>\n",
       "      <th>reference_abstracts</th>\n",
       "      <th>reference_titles</th>\n",
       "      <th>reference_authors</th>\n",
       "      <th>reference_dates</th>\n",
       "    </tr>\n",
       "  </thead>\n",
       "  <tbody>\n",
       "    <tr>\n",
       "      <th>0</th>\n",
       "      <td>24536</td>\n",
       "      <td>IEDB_EPITOPE:24536</td>\n",
       "      <td>[HPVGEADYFEY]</td>\n",
       "      <td>[{'accession': 'AFY97913.1', 'name': 'EBNA-1',...</td>\n",
       "      <td>Linear peptide</td>\n",
       "      <td>HPVGEADYFEY</td>\n",
       "      <td>None</td>\n",
       "      <td>11</td>\n",
       "      <td>[5452, 1328890, 1328891, 1382633, 1382634, 138...</td>\n",
       "      <td>[IEDB_ASSAY:1328890, IEDB_ASSAY:1328891, IEDB_...</td>\n",
       "      <td>...</td>\n",
       "      <td>None</td>\n",
       "      <td>None</td>\n",
       "      <td>[1383248, 1383263, 1403131, 1403132, 1450643, ...</td>\n",
       "      <td>[IEDB_ASSAY:1383248, IEDB_ASSAY:1383263, IEDB_...</td>\n",
       "      <td>[Literature, Submission]</td>\n",
       "      <td>[11120837, 12576337, 14694109, 15148339, 15148...</td>\n",
       "      <td>[A classic feature of antigen presentation for...</td>\n",
       "      <td>[Allelic polymorphism in the T cell receptor a...</td>\n",
       "      <td>[Barbara Savoldo; John A Goss; Markus M Hammer...</td>\n",
       "      <td>[2000, 2003, 2004, 2005, 2006, 2007, 2008, 200...</td>\n",
       "    </tr>\n",
       "  </tbody>\n",
       "</table>\n",
       "<p>1 rows × 83 columns</p>\n",
       "</div>"
      ],
      "text/plain": [
       "   structure_id       structure_iri structure_descriptions  \\\n",
       "0         24536  IEDB_EPITOPE:24536          [HPVGEADYFEY]   \n",
       "\n",
       "                             curated_source_antigens  structure_type  \\\n",
       "0  [{'accession': 'AFY97913.1', 'name': 'EBNA-1',...  Linear peptide   \n",
       "\n",
       "  linear_sequence e_modification  linear_sequence_length  \\\n",
       "0     HPVGEADYFEY           None                      11   \n",
       "\n",
       "                                      iedb_assay_ids  \\\n",
       "0  [5452, 1328890, 1328891, 1382633, 1382634, 138...   \n",
       "\n",
       "                                     iedb_assay_iris  ... bcell_ids  \\\n",
       "0  [IEDB_ASSAY:1328890, IEDB_ASSAY:1328891, IEDB_...  ...      None   \n",
       "\n",
       "  bcell_iris                                        elution_ids  \\\n",
       "0       None  [1383248, 1383263, 1403131, 1403132, 1450643, ...   \n",
       "\n",
       "                                        elution_iris  \\\n",
       "0  [IEDB_ASSAY:1383248, IEDB_ASSAY:1383263, IEDB_...   \n",
       "\n",
       "            reference_types  \\\n",
       "0  [Literature, Submission]   \n",
       "\n",
       "                                          pubmed_ids  \\\n",
       "0  [11120837, 12576337, 14694109, 15148339, 15148...   \n",
       "\n",
       "                                 reference_abstracts  \\\n",
       "0  [A classic feature of antigen presentation for...   \n",
       "\n",
       "                                    reference_titles  \\\n",
       "0  [Allelic polymorphism in the T cell receptor a...   \n",
       "\n",
       "                                   reference_authors  \\\n",
       "0  [Barbara Savoldo; John A Goss; Markus M Hammer...   \n",
       "\n",
       "                                     reference_dates  \n",
       "0  [2000, 2003, 2004, 2005, 2006, 2007, 2008, 200...  \n",
       "\n",
       "[1 rows x 83 columns]"
      ]
     },
     "execution_count": 30,
     "metadata": {},
     "output_type": "execute_result"
    }
   ],
   "source": [
    "df = pd.json_normalize(result.json())\n",
    "print(\"This is a data from of the following type:\", type(df))\n",
    "df"
   ]
  },
  {
   "cell_type": "markdown",
   "id": "4fa8fa9d-6e87-473b-8fea-ad4dcbe9719f",
   "metadata": {},
   "source": [
    "The current dataframe has a single observation and 83 columns. That is because each epitope is represented as a row when using \"epitope_search\" with 83 different features.\n",
    "\n",
    "Next aims:\n",
    "- Inspect all column names\n",
    "- Let's redo the epitope search, but let's limit the number of columns to receive. \n",
    "- Let's performn the epitope search for a given HLA allele instead (e.g. B\\*35:01)"
   ]
  },
  {
   "cell_type": "code",
   "execution_count": 31,
   "id": "279f5c00-3d12-49aa-8c38-e6a098c62633",
   "metadata": {},
   "outputs": [
    {
     "data": {
      "text/plain": [
       "Index(['structure_id', 'structure_iri', 'structure_descriptions',\n",
       "       'curated_source_antigens', 'structure_type', 'linear_sequence',\n",
       "       'e_modification', 'linear_sequence_length', 'iedb_assay_ids',\n",
       "       'iedb_assay_iris', 'reference_ids', 'reference_iris', 'submission_ids',\n",
       "       'submission_iris', 'pdb_ids', 'chebi_ids', 'qualitative_measures',\n",
       "       'mhc_allele_evidences', 'antibody_isotypes', 'direct_ex_vivo_bool',\n",
       "       'receptor_ids', 'receptor_group_ids', 'tcr_receptor_group_ids',\n",
       "       'bcr_receptor_group_ids', 'receptor_group_iris',\n",
       "       'tcr_receptor_group_iris', 'bcr_receptor_group_iris', 'receptor_types',\n",
       "       'receptor_names', 'receptor_chain1_types', 'receptor_chain2_types',\n",
       "       'receptor_chain1_full_seqs', 'receptor_chain2_full_seqs',\n",
       "       'receptor_chain1_cdr1_seqs', 'receptor_chain2_cdr1_seqs',\n",
       "       'receptor_chain1_cdr2_seqs', 'receptor_chain2_cdr2_seqs',\n",
       "       'receptor_chain1_cdr3_seqs', 'receptor_chain2_cdr3_seqs',\n",
       "       'host_organism_iri_search', 'host_organism_iris', 'host_organism_names',\n",
       "       'source_organism_iri_search', 'source_organism_iris',\n",
       "       'source_organism_names', 'mhc_allele_iri_search', 'mhc_allele_iris',\n",
       "       'mhc_allele_names', 'parent_source_antigen_iri_search',\n",
       "       'parent_source_antigen_iris', 'parent_source_antigen_names',\n",
       "       'parent_source_antigen_source_org_iris',\n",
       "       'parent_source_antigen_source_org_names', 'disease_iri_search',\n",
       "       'disease_iris', 'disease_names', 'assay_iri_search', 'assay_iris',\n",
       "       'assay_names', 'non_peptidic_molecule_iri_search',\n",
       "       'non_peptidic_molecule_iris', 'non_peptidic_molecule_names',\n",
       "       'r_object_source_molecule_iri_search', 'r_object_source_molecule_iris',\n",
       "       'r_object_source_molecule_names', 'r_object_source_organism_iri_search',\n",
       "       'r_object_source_organism_iris', 'r_object_source_organism_names',\n",
       "       'mhc_classes', 'mhc_allele_resolutions', 'e_related_object_types',\n",
       "       'tcell_ids', 'tcell_iris', 'bcell_ids', 'bcell_iris', 'elution_ids',\n",
       "       'elution_iris', 'reference_types', 'pubmed_ids', 'reference_abstracts',\n",
       "       'reference_titles', 'reference_authors', 'reference_dates'],\n",
       "      dtype='object')"
      ]
     },
     "execution_count": 31,
     "metadata": {},
     "output_type": "execute_result"
    }
   ],
   "source": [
    "#Inspecting all column names\n",
    "df.columns"
   ]
  },
  {
   "cell_type": "markdown",
   "id": "f80cb366-92e8-49e7-9674-ec21cb9332c0",
   "metadata": {},
   "source": [
    "These are the column names in Epitope_search: \n",
    "          \n",
    "Of interest are:\n",
    "- curated_source_antigens\n",
    "- linear_sequence\n",
    "- e_modification\n",
    "- linear_sequence_length\n",
    "- mhc_allele_names\n",
    "- source_organism_names\n",
    "- iedb_assay_ids\n",
    "- reference_ids\n",
    "\n",
    "**These also doubles as search paramters**\n",
    "<br>See: https://query-api.iedb.org/docs/swagger/#/epitope_search/get_epitope_search\n"
   ]
  },
  {
   "cell_type": "code",
   "execution_count": 35,
   "id": "8e26b53d-b2d3-4087-96c9-19d42bd77fa1",
   "metadata": {},
   "outputs": [
    {
     "name": "stdout",
     "output_type": "stream",
     "text": [
      "This is the request url used with the curl cmd:\n",
      "curl -X 'GET' 'https://query-api.iedb.org/epitope_search?linear_sequence=eq.HPVGEADYFEY&select=curated_source_antigens%2C+linear_sequence%2C+e_modification%2C+linear_sequence_length%2C+mhc_allele_names%2C++++++++++++++++source_organism_names%2C+iedb_assay_ids%2C+reference_ids'\n"
     ]
    },
    {
     "data": {
      "text/html": [
       "<div>\n",
       "<style scoped>\n",
       "    .dataframe tbody tr th:only-of-type {\n",
       "        vertical-align: middle;\n",
       "    }\n",
       "\n",
       "    .dataframe tbody tr th {\n",
       "        vertical-align: top;\n",
       "    }\n",
       "\n",
       "    .dataframe thead th {\n",
       "        text-align: right;\n",
       "    }\n",
       "</style>\n",
       "<table border=\"1\" class=\"dataframe\">\n",
       "  <thead>\n",
       "    <tr style=\"text-align: right;\">\n",
       "      <th></th>\n",
       "      <th>curated_source_antigens</th>\n",
       "      <th>linear_sequence</th>\n",
       "      <th>e_modification</th>\n",
       "      <th>linear_sequence_length</th>\n",
       "      <th>mhc_allele_names</th>\n",
       "      <th>source_organism_names</th>\n",
       "      <th>iedb_assay_ids</th>\n",
       "      <th>reference_ids</th>\n",
       "    </tr>\n",
       "  </thead>\n",
       "  <tbody>\n",
       "    <tr>\n",
       "      <th>0</th>\n",
       "      <td>[{'accession': 'AFY97913.1', 'name': 'EBNA-1',...</td>\n",
       "      <td>HPVGEADYFEY</td>\n",
       "      <td>None</td>\n",
       "      <td>11</td>\n",
       "      <td>[HLA-A*02:01, HLA-A2, HLA-B*07:02, HLA-B*08:01...</td>\n",
       "      <td>[Human herpesvirus 4 (Epstein Barr virus), Hum...</td>\n",
       "      <td>[5452, 1328890, 1328891, 1382633, 1382634, 138...</td>\n",
       "      <td>[589, 1002081, 1004304, 1004493, 1004495, 1004...</td>\n",
       "    </tr>\n",
       "  </tbody>\n",
       "</table>\n",
       "</div>"
      ],
      "text/plain": [
       "                             curated_source_antigens linear_sequence  \\\n",
       "0  [{'accession': 'AFY97913.1', 'name': 'EBNA-1',...     HPVGEADYFEY   \n",
       "\n",
       "  e_modification  linear_sequence_length  \\\n",
       "0           None                      11   \n",
       "\n",
       "                                    mhc_allele_names  \\\n",
       "0  [HLA-A*02:01, HLA-A2, HLA-B*07:02, HLA-B*08:01...   \n",
       "\n",
       "                               source_organism_names  \\\n",
       "0  [Human herpesvirus 4 (Epstein Barr virus), Hum...   \n",
       "\n",
       "                                      iedb_assay_ids  \\\n",
       "0  [5452, 1328890, 1328891, 1382633, 1382634, 138...   \n",
       "\n",
       "                                       reference_ids  \n",
       "0  [589, 1002081, 1004304, 1004493, 1004495, 1004...  "
      ]
     },
     "execution_count": 35,
     "metadata": {},
     "output_type": "execute_result"
    }
   ],
   "source": [
    "#This code now selects the the exact columns we are interested in from within the IEDB API before the resulting df is generated\n",
    "search_params={  'linear_sequence': 'eq.'+my_favorite_epitope,\n",
    "                'select': 'curated_source_antigens, linear_sequence, e_modification, linear_sequence_length, mhc_allele_names,\\\n",
    "                source_organism_names, iedb_assay_ids, reference_ids'}\n",
    "result = requests.get(full_url, params=search_params)\n",
    "print_curl_cmd(result)\n",
    "df = pd.json_normalize(result.json())\n",
    "df"
   ]
  },
  {
   "cell_type": "markdown",
   "id": "0574d3d7-2c1e-4d34-b762-2f92502b72d2",
   "metadata": {},
   "source": [
    "From the tutorial: \n",
    "    \"Note the additional complexity in the URL of the last query **There are two parameters (linear_sequence & select)**, multiple values for the latter parameter, and many URL escape codes for the commas. Python's 'request' module handles this all for you, but one should be aware that all portions of the query need to be URL-escaped.\""
   ]
  },
  {
   "cell_type": "markdown",
   "id": "955d9421-e9bf-4bf3-bc8b-8262e0f647cd",
   "metadata": {},
   "source": [
    "# Downloading information on a all epitopes in Epitope_search"
   ]
  },
  {
   "cell_type": "code",
   "execution_count": 36,
   "id": "f84b5794-86a1-453a-a6be-307b537997c4",
   "metadata": {},
   "outputs": [
    {
     "name": "stdout",
     "output_type": "stream",
     "text": [
      "This is the request url used with the curl cmd:\n",
      "curl -X 'GET' 'https://query-api.iedb.org/epitope_search?select=curated_source_antigens%2C+linear_sequence%2C+e_modification%2C+linear_sequence_length%2C+mhc_allele_names%2C++++++++++++++++source_organism_names%2C+iedb_assay_ids%2C+reference_ids'\n"
     ]
    },
    {
     "data": {
      "text/html": [
       "<div>\n",
       "<style scoped>\n",
       "    .dataframe tbody tr th:only-of-type {\n",
       "        vertical-align: middle;\n",
       "    }\n",
       "\n",
       "    .dataframe tbody tr th {\n",
       "        vertical-align: top;\n",
       "    }\n",
       "\n",
       "    .dataframe thead th {\n",
       "        text-align: right;\n",
       "    }\n",
       "</style>\n",
       "<table border=\"1\" class=\"dataframe\">\n",
       "  <thead>\n",
       "    <tr style=\"text-align: right;\">\n",
       "      <th></th>\n",
       "      <th>curated_source_antigens</th>\n",
       "      <th>linear_sequence</th>\n",
       "      <th>e_modification</th>\n",
       "      <th>linear_sequence_length</th>\n",
       "      <th>mhc_allele_names</th>\n",
       "      <th>source_organism_names</th>\n",
       "      <th>iedb_assay_ids</th>\n",
       "      <th>reference_ids</th>\n",
       "    </tr>\n",
       "  </thead>\n",
       "  <tbody>\n",
       "    <tr>\n",
       "      <th>0</th>\n",
       "      <td>[{'accession': 'P26664.3', 'name': 'Genome pol...</td>\n",
       "      <td>GDLCGSVFL</td>\n",
       "      <td>None</td>\n",
       "      <td>9</td>\n",
       "      <td>[H2-Kk, Mamu-A1*011:01]</td>\n",
       "      <td>[Hepatitis C virus (isolate 1)]</td>\n",
       "      <td>[1182763, 1182764]</td>\n",
       "      <td>[1000983]</td>\n",
       "    </tr>\n",
       "    <tr>\n",
       "      <th>1</th>\n",
       "      <td>[{'accession': 'AAB59097.1', 'name': 'exotoxin...</td>\n",
       "      <td>GDLDPSSIPDKEQAISALPD</td>\n",
       "      <td>None</td>\n",
       "      <td>20</td>\n",
       "      <td>None</td>\n",
       "      <td>[Pseudomonas aeruginosa]</td>\n",
       "      <td>[1269457]</td>\n",
       "      <td>[1001199]</td>\n",
       "    </tr>\n",
       "    <tr>\n",
       "      <th>2</th>\n",
       "      <td>[{'accession': 'P08318.1', 'name': 'Large stru...</td>\n",
       "      <td>GDLFSGDEDSDSSDG</td>\n",
       "      <td>None</td>\n",
       "      <td>15</td>\n",
       "      <td>None</td>\n",
       "      <td>[Human herpesvirus 5 (Human cytomegalovirus)]</td>\n",
       "      <td>[1382552]</td>\n",
       "      <td>[1004651]</td>\n",
       "    </tr>\n",
       "    <tr>\n",
       "      <th>3</th>\n",
       "      <td>[{'accession': 'YP_001623301.1', 'name': 'cell...</td>\n",
       "      <td>GDLGKKGFEDGDLVV</td>\n",
       "      <td>None</td>\n",
       "      <td>15</td>\n",
       "      <td>None</td>\n",
       "      <td>[Renibacterium salmoninarum]</td>\n",
       "      <td>[1478738, 1478739]</td>\n",
       "      <td>[1006177]</td>\n",
       "    </tr>\n",
       "    <tr>\n",
       "      <th>4</th>\n",
       "      <td>[{'accession': 'P03306.2', 'name': 'Genome pol...</td>\n",
       "      <td>GDLGSIA</td>\n",
       "      <td>None</td>\n",
       "      <td>7</td>\n",
       "      <td>None</td>\n",
       "      <td>[Foot-and-mouth disease virus (strain A10-61)]</td>\n",
       "      <td>[1480902, 1480903, 1480906, 1480907, 1480909, ...</td>\n",
       "      <td>[1008339, 1010423]</td>\n",
       "    </tr>\n",
       "    <tr>\n",
       "      <th>...</th>\n",
       "      <td>...</td>\n",
       "      <td>...</td>\n",
       "      <td>...</td>\n",
       "      <td>...</td>\n",
       "      <td>...</td>\n",
       "      <td>...</td>\n",
       "      <td>...</td>\n",
       "      <td>...</td>\n",
       "    </tr>\n",
       "    <tr>\n",
       "      <th>9995</th>\n",
       "      <td>[{'accession': 'P03468.2', 'name': 'Neuraminid...</td>\n",
       "      <td>ITYKNSTWVK</td>\n",
       "      <td>None</td>\n",
       "      <td>10</td>\n",
       "      <td>[H2-Db]</td>\n",
       "      <td>[Influenza A virus (A/Puerto Rico/8/1934(H1N1)...</td>\n",
       "      <td>[1006289, 1006290]</td>\n",
       "      <td>[1000168]</td>\n",
       "    </tr>\n",
       "    <tr>\n",
       "      <th>9996</th>\n",
       "      <td>[{'accession': 'AAB00381.1', 'name': 'S1 glyco...</td>\n",
       "      <td>ITYKVMREVRALAYFVNGTA</td>\n",
       "      <td>None</td>\n",
       "      <td>20</td>\n",
       "      <td>[chicken]</td>\n",
       "      <td>[Avian infectious bronchitis virus (strain Vic...</td>\n",
       "      <td>[1498067, 1498075, 1498257, 1498284, 1500789]</td>\n",
       "      <td>[1013036]</td>\n",
       "    </tr>\n",
       "    <tr>\n",
       "      <th>9997</th>\n",
       "      <td>[{'accession': 'AAA69398.1', 'name': 'D7R', 'i...</td>\n",
       "      <td>ITYLMNRFK</td>\n",
       "      <td>None</td>\n",
       "      <td>9</td>\n",
       "      <td>[HLA-A*03:01, HLA-A*11:01, HLA-A*30:01, HLA-A*...</td>\n",
       "      <td>[Camelpox virus M-96, Vaccinia virus Copenhage...</td>\n",
       "      <td>[1301052, 1301053, 1301054, 1301055, 1301056, ...</td>\n",
       "      <td>[1001865, 1003530, 1006442, 1014017, 1028287, ...</td>\n",
       "    </tr>\n",
       "    <tr>\n",
       "      <th>9998</th>\n",
       "      <td>[{'accession': 'AAB96556.1', 'name': '68k anky...</td>\n",
       "      <td>ITYLMNRFKNIDI</td>\n",
       "      <td>None</td>\n",
       "      <td>13</td>\n",
       "      <td>[human]</td>\n",
       "      <td>[Modified Vaccinia Ankara virus (MVA virus)]</td>\n",
       "      <td>[1502511]</td>\n",
       "      <td>[1007651]</td>\n",
       "    </tr>\n",
       "    <tr>\n",
       "      <th>9999</th>\n",
       "      <td>[{'accession': 'P13811.1', 'name': 'Heat-labil...</td>\n",
       "      <td>ITYLTETKID</td>\n",
       "      <td>None</td>\n",
       "      <td>10</td>\n",
       "      <td>[H2-d class II]</td>\n",
       "      <td>[Escherichia coli ETEC H10407 (Escherichia col...</td>\n",
       "      <td>[1269927, 1270260, 1270540, 1270550, 1273658, ...</td>\n",
       "      <td>[1000553]</td>\n",
       "    </tr>\n",
       "  </tbody>\n",
       "</table>\n",
       "<p>10000 rows × 8 columns</p>\n",
       "</div>"
      ],
      "text/plain": [
       "                                curated_source_antigens       linear_sequence  \\\n",
       "0     [{'accession': 'P26664.3', 'name': 'Genome pol...             GDLCGSVFL   \n",
       "1     [{'accession': 'AAB59097.1', 'name': 'exotoxin...  GDLDPSSIPDKEQAISALPD   \n",
       "2     [{'accession': 'P08318.1', 'name': 'Large stru...       GDLFSGDEDSDSSDG   \n",
       "3     [{'accession': 'YP_001623301.1', 'name': 'cell...       GDLGKKGFEDGDLVV   \n",
       "4     [{'accession': 'P03306.2', 'name': 'Genome pol...               GDLGSIA   \n",
       "...                                                 ...                   ...   \n",
       "9995  [{'accession': 'P03468.2', 'name': 'Neuraminid...            ITYKNSTWVK   \n",
       "9996  [{'accession': 'AAB00381.1', 'name': 'S1 glyco...  ITYKVMREVRALAYFVNGTA   \n",
       "9997  [{'accession': 'AAA69398.1', 'name': 'D7R', 'i...             ITYLMNRFK   \n",
       "9998  [{'accession': 'AAB96556.1', 'name': '68k anky...         ITYLMNRFKNIDI   \n",
       "9999  [{'accession': 'P13811.1', 'name': 'Heat-labil...            ITYLTETKID   \n",
       "\n",
       "     e_modification  linear_sequence_length  \\\n",
       "0              None                       9   \n",
       "1              None                      20   \n",
       "2              None                      15   \n",
       "3              None                      15   \n",
       "4              None                       7   \n",
       "...             ...                     ...   \n",
       "9995           None                      10   \n",
       "9996           None                      20   \n",
       "9997           None                       9   \n",
       "9998           None                      13   \n",
       "9999           None                      10   \n",
       "\n",
       "                                       mhc_allele_names  \\\n",
       "0                               [H2-Kk, Mamu-A1*011:01]   \n",
       "1                                                  None   \n",
       "2                                                  None   \n",
       "3                                                  None   \n",
       "4                                                  None   \n",
       "...                                                 ...   \n",
       "9995                                            [H2-Db]   \n",
       "9996                                          [chicken]   \n",
       "9997  [HLA-A*03:01, HLA-A*11:01, HLA-A*30:01, HLA-A*...   \n",
       "9998                                            [human]   \n",
       "9999                                    [H2-d class II]   \n",
       "\n",
       "                                  source_organism_names  \\\n",
       "0                       [Hepatitis C virus (isolate 1)]   \n",
       "1                              [Pseudomonas aeruginosa]   \n",
       "2         [Human herpesvirus 5 (Human cytomegalovirus)]   \n",
       "3                          [Renibacterium salmoninarum]   \n",
       "4        [Foot-and-mouth disease virus (strain A10-61)]   \n",
       "...                                                 ...   \n",
       "9995  [Influenza A virus (A/Puerto Rico/8/1934(H1N1)...   \n",
       "9996  [Avian infectious bronchitis virus (strain Vic...   \n",
       "9997  [Camelpox virus M-96, Vaccinia virus Copenhage...   \n",
       "9998       [Modified Vaccinia Ankara virus (MVA virus)]   \n",
       "9999  [Escherichia coli ETEC H10407 (Escherichia col...   \n",
       "\n",
       "                                         iedb_assay_ids  \\\n",
       "0                                    [1182763, 1182764]   \n",
       "1                                             [1269457]   \n",
       "2                                             [1382552]   \n",
       "3                                    [1478738, 1478739]   \n",
       "4     [1480902, 1480903, 1480906, 1480907, 1480909, ...   \n",
       "...                                                 ...   \n",
       "9995                                 [1006289, 1006290]   \n",
       "9996      [1498067, 1498075, 1498257, 1498284, 1500789]   \n",
       "9997  [1301052, 1301053, 1301054, 1301055, 1301056, ...   \n",
       "9998                                          [1502511]   \n",
       "9999  [1269927, 1270260, 1270540, 1270550, 1273658, ...   \n",
       "\n",
       "                                          reference_ids  \n",
       "0                                             [1000983]  \n",
       "1                                             [1001199]  \n",
       "2                                             [1004651]  \n",
       "3                                             [1006177]  \n",
       "4                                    [1008339, 1010423]  \n",
       "...                                                 ...  \n",
       "9995                                          [1000168]  \n",
       "9996                                          [1013036]  \n",
       "9997  [1001865, 1003530, 1006442, 1014017, 1028287, ...  \n",
       "9998                                          [1007651]  \n",
       "9999                                          [1000553]  \n",
       "\n",
       "[10000 rows x 8 columns]"
      ]
     },
     "execution_count": 36,
     "metadata": {},
     "output_type": "execute_result"
    }
   ],
   "source": [
    "#See title\n",
    "search_params={  'select': 'curated_source_antigens, linear_sequence, e_modification, linear_sequence_length, mhc_allele_names,\\\n",
    "                source_organism_names, iedb_assay_ids, reference_ids'} \n",
    "table_name='epitope_search'\n",
    "full_url=base_uri + '/' + table_name\n",
    "result = requests.get(full_url, params=search_params)\n",
    "print_curl_cmd(result)\n",
    "df = pd.json_normalize(result.json())"
   ]
  },
  {
   "cell_type": "markdown",
   "id": "fd597c43-41bf-427b-b19a-547dc98e3bf3",
   "metadata": {},
   "source": [
    "Inspect the data frame: \n",
    "- shape\n",
    "- sample\n",
    "- linear_sequence_length"
   ]
  },
  {
   "cell_type": "code",
   "execution_count": 37,
   "id": "5495b1f5-ca27-49de-8f5d-5210d0715145",
   "metadata": {},
   "outputs": [
    {
     "data": {
      "text/plain": [
       "(10000, 8)"
      ]
     },
     "execution_count": 37,
     "metadata": {},
     "output_type": "execute_result"
    }
   ],
   "source": [
    "df.shape"
   ]
  },
  {
   "cell_type": "markdown",
   "id": "dc6e0506-486a-4318-b021-672dd0e247ed",
   "metadata": {},
   "source": [
    "**HUH**, it appear wierd that there are exactly 10.000 rows. There should be more... \n",
    "How many epitopes is within IEDB currently?\n",
    "- (26-08-2021) 39868 epitopes are available. There most be a limit or something on the API.. \n",
    "\n",
    "Interesting: \n",
    "    The default request is 10.000, any more will be hidden on a different \"page\"\n",
    "    <br> *By default, the IQ-API has a maximum page size of 10,000 records. In practice, this means that queries that result in more than 10,000 results will be divided into pages and only the first 10,000 records will be returned by the initial query. The API will always return a count of the records matching the query, as well as the number of pages of results. \n",
    "    \n",
    "There ARE a way to download all hits. But, it requires me to use the curl command in the terminal.\n",
    "\n",
    "## Download Epitope_search and Assay_search by using the terminal\n",
    "TL:DR This did not work very well, had to try a for loop with the initial method instead"
   ]
  },
  {
   "cell_type": "code",
   "execution_count": 50,
   "id": "714457a1-61cb-431d-82a4-d07e886b7d79",
   "metadata": {},
   "outputs": [
    {
     "name": "stdout",
     "output_type": "stream",
     "text": [
      "https://query-api.iedb.org\n",
      "https://query-api.iedb.org/epitope_search\n"
     ]
    }
   ],
   "source": [
    "#Define the epitope_search url\n",
    "search_params={  'select': 'curated_source_antigens, linear_sequence, e_modification, linear_sequence_length, mhc_allele_names,\\\n",
    "                source_organism_names, iedb_assay_ids, reference_ids'} \n",
    "table_name='epitope_search'\n",
    "print(base_uri)\n",
    "full_url=base_uri + '/' + table_name\n",
    "print(full_url)"
   ]
  },
  {
   "cell_type": "code",
   "execution_count": 51,
   "id": "6ff0aefa-6c98-48b4-b7e2-716694786715",
   "metadata": {},
   "outputs": [
    {
     "name": "stdout",
     "output_type": "stream",
     "text": [
      "https://query-api.iedb.org\n",
      "https://query-api.iedb.org/antigen_search\n"
     ]
    }
   ],
   "source": [
    "#Define the Antigen_search url\n",
    "search_params={  'select': 'curated_source_antigens, linear_sequence, e_modification, linear_sequence_length, mhc_allele_names,\\\n",
    "                source_organism_names, iedb_assay_ids, reference_ids'} \n",
    "table_name='antigen_search'\n",
    "print(base_uri)\n",
    "full_url=base_uri + '/' + table_name\n",
    "print(full_url)"
   ]
  },
  {
   "cell_type": "markdown",
   "id": "d1afabc5-63d1-41a9-8b5d-965c9c9935cd",
   "metadata": {},
   "source": [
    "#In the terminal: \n",
    "```bash\n",
    "$ curl -I \"https://query-api.iedb.org/epitope_search\" -H 'Prefer: count=exact'\n",
    "HTTP/1.1 206 Partial Content\n",
    "Server: nginx/1.14.2\n",
    "Date: Thu, 26 Aug 2021 17:33:11 GMT\n",
    "Content-Type: application/json; charset=utf-8\n",
    "Connection: keep-alive\n",
    "Content-Range: 0-9999/1535288\n",
    "Content-Location: /epitope_search\n",
    "```"
   ]
  },
  {
   "cell_type": "markdown",
   "id": "0f79760f-0292-4bf3-b36b-3b89f6fd2834",
   "metadata": {},
   "source": [
    "From the above, I can see that:\n",
    "- There are 1535288 entries in the epitope_search database\n",
    "\n",
    "I can access any part of the database above 9999 by specifying the offset paramter in the url\n",
    "\n",
    "```bash\n",
    "$ curl -I \"https://query-api.iedb.org/antigen_search?offset=10000\" -H 'Prefer: count=exact'\n",
    "HTTP/1.1 206 Partial Content\n",
    "Server: nginx/1.14.2\n",
    "Date: Thu, 26 Aug 2021 17:41:01 GMT\n",
    "Content-Type: application/json; charset=utf-8\n",
    "Connection: keep-alive\n",
    "Content-Range: 10000-19999/73218\n",
    "Content-Location: /antigen_search?offset=10000\n",
    "```\n"
   ]
  },
  {
   "cell_type": "markdown",
   "id": "c5c7ac32-a18d-4cc8-afed-99b35d2b49d4",
   "metadata": {},
   "source": [
    "### Downloading information has to be done in chunks followed with merging\n",
    "\n",
    "Aims:\n",
    "- Create a simple bash script to download, store and bind datasets together for Epitope_search\n",
    "- Do the same for assay_search\n",
    "\n",
    "Bash can be run from jupyter notebook by using \"magics\" http://blog.dominodatalab.com/lesser-known-ways-of-using-notebooks\n",
    "<br> For example `%%bash` let's you continue the cell by using bash language"
   ]
  },
  {
   "cell_type": "code",
   "execution_count": 10,
   "id": "a2bcb047-6bca-4303-9c0d-35e630f86070",
   "metadata": {},
   "outputs": [
    {
     "name": "stdout",
     "output_type": "stream",
     "text": [
      "Welcome 1 times\n",
      "Welcome 2 times\n",
      "Welcome 3 times\n",
      "Welcome 4 times\n",
      "Welcome 5 times\n"
     ]
    }
   ],
   "source": [
    "%%bash\n",
    "for i in 1 2 3 4 5\n",
    "do\n",
    "   echo \"Welcome $i times\"\n",
    "done\n",
    "\n",
    "#This is an example of a chunk of code that will be executed with Bash instead of Python 3. "
   ]
  },
  {
   "cell_type": "markdown",
   "id": "8ec13074-7e16-4199-adc6-7a18338e9fa7",
   "metadata": {},
   "source": [
    "Can bash also handle my request to IEDB from Jupyter Notebook?\n",
    "<BR> YES. It even reports how much time was spend fetching the data. However, it doesn't appear that the data was stored anywhere...\n",
    "<br> SOLVED. `curl -I` ONLY fetches HTTP info from the HTTP server. \n",
    "<br> Downloading the initial data as .csv is also possible if specified in the curl command. `-H  \"accept: text/csv\" `\n",
    "\n",
    "    curl -I, --head\n",
    "       (HTTP/FTP/FILE)  **Fetch the HTTP-header only! HTTP-servers feature the command HEAD which this uses\n",
    "       to get nothing but the header of a document. When used on a FTP or FILE file,  curl  displays  the\n",
    "       file size and last modification time only."
   ]
  },
  {
   "cell_type": "code",
   "execution_count": 26,
   "id": "242bed27-8870-4f01-af60-31465a435587",
   "metadata": {
    "collapsed": true,
    "jupyter": {
     "outputs_hidden": true
    },
    "tags": []
   },
   "outputs": [
    {
     "name": "stdout",
     "output_type": "stream",
     "text": [
      "structure_id,structure_iri,structure_descriptions,curated_source_antigens,structure_type,linear_sequence,e_modification,linear_sequence_length,iedb_assay_ids,iedb_assay_iris,reference_ids,reference_iris,submission_ids,submission_iris,pdb_ids,chebi_ids,qualitative_measures,mhc_allele_evidences,antibody_isotypes,direct_ex_vivo_bool,receptor_ids,receptor_group_ids,tcr_receptor_group_ids,bcr_receptor_group_ids,receptor_group_iris,tcr_receptor_group_iris,bcr_receptor_group_iris,receptor_types,receptor_names,receptor_chain1_types,receptor_chain2_types,receptor_chain1_full_seqs,receptor_chain2_full_seqs,receptor_chain1_cdr1_seqs,receptor_chain2_cdr1_seqs,receptor_chain1_cdr2_seqs,receptor_chain2_cdr2_seqs,receptor_chain1_cdr3_seqs,receptor_chain2_cdr3_seqs,host_organism_iri_search,host_organism_iris,host_organism_names,source_organism_iri_search,source_organism_iris,source_organism_names,mhc_allele_iri_search,mhc_allele_iris,mhc_allele_names,parent_source_antigen_iri_search,parent_source_antigen_iris,parent_source_antigen_names,parent_source_antigen_source_org_iris,parent_source_antigen_source_org_names,disease_iri_search,disease_iris,disease_names,assay_iri_search,assay_iris,assay_names,non_peptidic_molecule_iri_search,non_peptidic_molecule_iris,non_peptidic_molecule_names,r_object_source_molecule_iri_search,r_object_source_molecule_iris,r_object_source_molecule_names,r_object_source_organism_iri_search,r_object_source_organism_iris,r_object_source_organism_names,mhc_classes,mhc_allele_resolutions,e_related_object_types,tcell_ids,tcell_iris,bcell_ids,bcell_iris,elution_ids,elution_iris,reference_types,pubmed_ids,reference_abstracts,reference_titles,reference_authors,reference_dates\n",
      "39201,IEDB_EPITOPE:39201,{LRRVLDELTLTKADLEMQIE},\"{\"\"(NP_000412.3,\\\\\"\"keratin 10\\\\\"\",GENPEPT:NP_000412.3,255,274,\\\\\"\"Homo sapiens (human)\\\\\"\",NCBITaxon:9606)\"\"}\",\"Linear peptide\",LRRVLDELTLTKADLEMQIE,,20,\"{1505668,1505669}\",\"{IEDB_ASSAY:1505668,IEDB_ASSAY:1505669}\",{1009936},{IEDB_REFERENCE:1009936},,,,,{Positive},,,1,,,,,,,,,,,,,,,,,,,,\"{NCBITaxon:314295,NCBITaxon:40674,NCBITaxon:7742,NCBITaxon:9443,NCBITaxon:9606}\",{NCBITaxon:9606},\"{\"\"Homo sapiens (human)\"\"}\",\"{NCBITaxon:1,NCBITaxon:2759,NCBITaxon:314295,NCBITaxon:33208,NCBITaxon:40674,NCBITaxon:7742,NCBITaxon:9443,NCBITaxon:9606,OBI:0100026}\",{NCBITaxon:9606},\"{\"\"Homo sapiens (human)\"\"}\",,,,\"{BFO:0000040,PR:000000001,taxon_protein:2759,taxon_protein:314295,taxon_protein:33208,taxon_protein:40674,taxon_protein:7742,taxon_protein:9443,taxon_protein:9606,UNIPROT:P13645}\",{UNIPROT:P13645},\"{\"\"Keratin, type I cytoskeletal 10\"\"}\",{NCBITaxon:9606},\"{\"\"Homo sapiens (human)\"\"}\",\"{DOID:0060039,DOID:17,DOID:37,DOID:4,DOID:417,DOID:65,DOID:7,DOID:8893,ONTIE:0003542,ONTIE:0003543}\",{DOID:8893},{psoriasis},\"{OBI:0001414,OBI:0002055,OBI:1110037,OBI:1110059,OBI:1110129}\",{OBI:1110059},\"{\"\"IFNg release|ELISPOT\"\"}\",,,,,,,,,,,,,\"{1505668,1505669}\",\"{IEDB_ASSAY:1505668,IEDB_ASSAY:1505669}\",,,,,{Literature},{10469066},\"{\"\"Psoriasis is a T cell-mediated inflammatory skin disease that has been associated with infections by group A beta-haemolytic streptococci. In a previous study of patients with active psoriasis we demonstrated an increased frequency of circulating Th1-like cells that responded to 20 amino acid (aa) streptococcal M-peptides sharing sequences with human keratin. These cells disappeared after ultraviolet B (UVB)-induced clinical remission. Using T cells from the blood of 17 psoriatic patients and 17 healthy controls we have now compared the numbers of interferon-gamma (IFN-gamma)-producing cells induced by seven 18-20 aa keratin peptides and five corresponding M-peptides. The most frequent and strongest responses were observed to a peptide from keratin 17 that shares ALEEAN sequence with M-protein. The responses to this peptide were stronger than to the corresponding M-peptide containing the ALEEAN sequence. After UVB treatment T cell responses to all the M- and keratin peptides were abolished, while responses to the positive control antigen streptokinase/streptodornase (SK/SD) were not affected. These findings are consistent with the notion that aa sequences which keratin has in common with M-protein may be a major target for autoreactive T cells in psoriasis.\"\"}\",\"{\"\"Is an epitope on keratin 17 a major target for autoreactive T lymphocytes in psoriasis?\"\"}\",\"{\"\"A S Gudmundsdottir; H Sigmundsdottir; B Sigurgeirsson; M F Good; H Valdimarsson; I Jonsdottir\"\"}\",{1999}\n",
      "39202,IEDB_EPITOPE:39202,{LRRYLEARR},\"{\"\"(CAA27025.1,\\\\\"\"unnamed protein product\\\\\"\",GENPEPT:CAA27025.1,367,375,\\\\\"\"Pseudomonas aeruginosa\\\\\"\",NCBITaxon:287)\"\"}\",\"Linear peptide\",LRRYLEARR,,9,{1486459},{IEDB_ASSAY:1486459},{1012260},{IEDB_REFERENCE:1012260},,,,,{Positive},,,0,,,,,,,,,,,,,,,,,,,,\"{NCBITaxon:314295,NCBITaxon:40674,NCBITaxon:7742,NCBITaxon:9443,NCBITaxon:9606}\",{NCBITaxon:9606},\"{\"\"Homo sapiens (human)\"\"}\",\"{NCBITaxon:1,NCBITaxon:1224,NCBITaxon:1236,NCBITaxon:2,NCBITaxon:286,NCBITaxon:287,OBI:0100026}\",{NCBITaxon:287},\"{\"\"Pseudomonas aeruginosa\"\"}\",\"{GO:0032991,MRO:0000011,MRO:0001557,MRO:0001655,MRO:0001675}\",{MRO:0001557},{HLA-B27},\"{BFO:0000040,PR:000000001,taxon_protein:1224,taxon_protein:1236,taxon_protein:1236-other,taxon_protein:2,taxon_protein:286,taxon_protein:287,taxon_protein:287-other}\",{taxon_protein:287-other},\"{\"\"Other Pseudomonas aeruginosa protein\"\"}\",{NCBITaxon:287},\"{\"\"Pseudomonas aeruginosa\"\"}\",,,,\"{OBI:0001555,OBI:0001590,OBI:0002072,OBI:0002075,OBI:1110126}\",{OBI:0001590},\"{\"\"qualitative binding|purified MHC/direct/fluorescence\"\"}\",,,,,,,,,,{I},{class},,,,,,{1486459},{IEDB_ASSAY:1486459},{Literature},{7791441},\"{\"\"The spondyloarthropathies are associated by an unknown mechanism with HLA-B27 and certain bacteria. HLA-B27 shares sequence with proteins from enteric bacteria. The B*2705 sequence contains a nonapeptide, LRRYLENGK, predicted to bind in the binding cleft of B27. Some nonapeptides from enteric organisms that share sequence with this nonapeptide of B27 also bind B27. These observations suggest an unappreciated mechanism for autoimmunity that may operate in the B27-associated spondyloarthropathies involving peptides bound to and derived from histocompatibility alleles.\"\"}\",\"{\"\"HLA-B27 binding of peptide from its own sequence and similar peptides from bacteria: implications for spondyloarthropathies.\"\"}\",\"{\"\"R H Scofield; B Kurien; T Gross; W L Warren; J B Harley\"\"}\",{1995}\n",
      "39203,IEDB_EPITOPE:39203,{LRRYLENGK},\"{\"\"(ACD01076.1,\\\\\"\"MHC class I antigen\\\\\"\",GENPEPT:ACD01076.1,167,175,\\\\\"\"Homo sapiens (human)\\\\\"\",NCBITaxon:9606)\"\",\"\"(CAA27578.1,HLA-B27,GENPEPT:CAA27578.1,192,200,\\\\\"\"Homo sapiens (human)\\\\\"\",NCBITaxon:9606)\"\",\"\"(P03989.2,\\\\\"\"HLA class I histocompatibility antigen, B-27 alpha chain precursor\\\\\"\",GENPEPT:P03989.2,192,200,\\\\\"\"Homo sapiens (human)\\\\\"\",NCBITaxon:9606)\"\"}\",\"Linear peptide\",LRRYLENGK,,9,\"{1486495,1772214,1772231,1772238,1772243,2117515,2117516,2117517,2117518,2423525,2423526}\",\"{IEDB_ASSAY:1486495,IEDB_ASSAY:1772214,IEDB_ASSAY:1772231,IEDB_ASSAY:1772238,IEDB_ASSAY:1772243,IEDB_ASSAY:2117515,IEDB_ASSAY:2117516,IEDB_ASSAY:2117517,IEDB_ASSAY:2117518,IEDB_ASSAY:2423525,IEDB_ASSAY:2423526}\",\"{315174,315179,1012260,1017602}\",\"{IEDB_REFERENCE:1012260,IEDB_REFERENCE:1017602,IEDB_REFERENCE:315174,IEDB_REFERENCE:315179}\",,,,,\"{Negative,Positive,Positive-Low}\",\"{\"\"MHC binding assay\"\"}\",,1,,,,,,,,,,,,,,,,,,,,\"{NCBITaxon:314295,NCBITaxon:40674,NCBITaxon:7742,NCBITaxon:9443,NCBITaxon:9606}\",{NCBITaxon:9606},\"{\"\"Homo sapiens (human)\"\"}\",\"{NCBITaxon:1,NCBITaxon:2759,NCBITaxon:314295,NCBITaxon:33208,NCBITaxon:40674,NCBITaxon:7742,NCBITaxon:9443,NCBITaxon:9606,OBI:0100026}\",{NCBITaxon:9606},\"{\"\"Homo sapiens (human)\"\"}\",\"{GO:0032991,GO:0042611,MRO:0000011,MRO:0001061,MRO:0001084,MRO:0001085,MRO:0001086,MRO:0001087,MRO:0001355,MRO:0001454,MRO:0001557,MRO:0001655,MRO:0001675}\",\"{MRO:0001084,MRO:0001085,MRO:0001086,MRO:0001087,MRO:0001557}\",\"{HLA-B27,HLA-B*27:03,HLA-B*27:04,HLA-B*27:05,HLA-B*27:06}\",\"{BFO:0000040,MRO:0000527,MRO:0000528,MRO:0000533,MRO:0000549,MRO:0000552,MRO:0000553,MRO:0000555,MRO:0000583,MRO:0000586,MRO:0000594,MRO:0000595,MRO:0000601,MRO:0000606,MRO:0000609,MRO:0000611,MRO:0000612,PR:000000001,taxon_protein:2759,taxon_protein:314295,taxon_protein:33208,taxon_protein:40674,taxon_protein:7742,taxon_protein:9443,taxon_protein:9606,taxon_protein:9606-mhc,taxon_protein:9606-mhc-i,taxon_protein:9606-mhc-i_alpha,UNIPROT:P01889,UNIPROT:Q2L6G2}\",\"{MRO:0000552,UNIPROT:P01889,UNIPROT:Q2L6G2}\",\"{\"\"HLA-B*27:05 chain\"\",\"\"HLA class I histocompatibility antigen B alpha chain\"\",\"\"HLA class I histocompatibility antigen, B alpha chain (UniProt:P01889)\"\"}\",{NCBITaxon:9606},\"{\"\"Homo sapiens (human)\"\"}\",\"{DOID:0060032,DOID:0060564,DOID:0080001,DOID:17,DOID:3342,DOID:4,DOID:417,DOID:65,DOID:7,DOID:7147,ONTIE:0003423,ONTIE:0003542,ONTIE:0003543}\",\"{DOID:7147,ONTIE:0003423}\",\"{\"\"ankylosing spondylitis\"\",healthy}\",\"{OBI:0001272,OBI:0001400,OBI:0001550,OBI:0001553,OBI:0001555,OBI:0001561,OBI:0001590,OBI:0001606,OBI:0001991,OBI:0002055,OBI:0002062,OBI:0002072,OBI:0002075,OBI:1110037,OBI:1110126,OBI:1110129,OBI:1110130,OBI:1110150}\",\"{OBI:0001272,OBI:0001561,OBI:0001590,OBI:0001606,OBI:1110150}\",\"{\"\"cytotoxicity|51 chromium\"\",\"\"half maximal effective concentration (EC50)|cellular MHC/direct/fluorescence|nM\"\",\"\"qualitative binding|cellular MHC/direct/fluorescence\"\",\"\"qualitative binding|purified MHC/direct/fluorescence\"\",\"\"TNF release|ELISPOT\"\"}\",,,,,,,,,,{I},\"{\"\"2 chain\"\",class}\",,\"{1772231,1772238,1772243}\",\"{IEDB_ASSAY:1772231,IEDB_ASSAY:1772238,IEDB_ASSAY:1772243}\",,,\"{1486495,1772214,2117515,2117516,2117517,2117518,2423525,2423526}\",\"{IEDB_ASSAY:1486495,IEDB_ASSAY:1772214,IEDB_ASSAY:2117515,IEDB_ASSAY:2117516,IEDB_ASSAY:2117517,IEDB_ASSAY:2117518,IEDB_ASSAY:2423525,IEDB_ASSAY:2423526}\",{Literature},\"{14616798,7791441,8981922,9027961}\",\"{\"\"Ankylosing spondylitis (AS) is an inflammatory systemic disease affecting the spine, sacroiliacal and peripheral joints. Although the aetiology of AS remains unknown, the strong association with the HLA-B27 allele might reflect directly a detrimental effect of the HLA-B27 molecule itself, resulting from its potential capability to present 'arthritogenic' peptides to CD8+ T cells. Because some forms of SpA are triggered by enterobacterial infection, such arthritogenic peptides might originate from autologous and/or bacterial proteins triggering cross-reactive CD8+ T cell clones. Intriguingly, two peptides from the second extracellular domain of HLA-B*2705 share sequence homologies with several enterobacterial antigens, exhibit the HLA-B27-binding-motif, and are presented by HLA-B*2705 itself. The objective of this study was to examine the clonal T cell reactivity against these peptides in patients with AS. To this end, we screened peripheral blood lymphocytes (PBL) of 26 patients with AS and 24 healthy donors for TNF-alpha-producing cells using ELISPOT assays. PBL and synovial fluid-derived lymphocytes (SFL) of peptide-responsive patients were then stimulated and cultured with the relevant peptide and control peptides in vitro. Antigen-specific T cell lines (TCL) were identified by standard chromium release assays. Clonal analysis was performed subsequently applying TCRB-CDR3 spectratyping. Among eight peptides tested, only the HLA-B27 168-176 peptide LRRYLENGK was recognized by PBL from B27+ AS patients but not from B27+ healthy controls (P=0.001). LRRYLENGK-specific T cell clones used preferentially the TCRBV5S1 and the BV14 segment. These results suggest that an HLA-B27-derived peptide with homology to bacterial peptides may play a role in AS.\"\",\"\"A possible mechanism for the pathogenesis of HLA-B27-associated spondyloarthropathies is that peptides from arthritogenic bacteria with homology to endogenous self-peptides presented by HLA-B27, including those derived from HLA-B27 itself, could elicit an autoimmune T-cell response upon infection. We report here that an undecamer corresponding to the polymorphic region of HLA-B27 spanning residues 169-179 is presented in vivo by the B*2701, B*2704 and B*2706 subtypes, but was not detected in the B*2703-bound peptide pool. This peptide binds to B*2705 in vitro with sufficient affinity to allow its natural presentation by this subtype, but it binds with low affinity to B*2703. In spite of homology of this peptide to proteins from arthritogenic bacteria, its binding specificity does not correlate with current evidence concerning association of HLA-B27 subtypes to ankylosing spondylitis, suggesting that presentation of this peptide is not the critical feature that determines linkage of HLA-B27 to this disease.\"\",\"\"The association between HLA-B27 and spondylarthropathies is currently being reinvestigated in the light of HLA-B27 subtyping. At least 11 different subtypes have been described among which B*2703, B*2706, and B*2709 could be less closely associated with disease at the population level. Differences in the presentation of antigenic peptides by these subtypes could be related to differences in disease susceptibility. We focused our work on the comparison of B*2705 and B*2703 which differ at a single position at residue 59 in pocket A of the peptide binding groove. Endogenous peptides from the human C1R line transfected by B*2705 or B*2703 were acid-eluted and separated by HPLC. Major individual fractions were sequenced by Edman NH2-terminal degradation. Differences observed between B*2705 versus B*2703 individual ligands were confirmed in an in vitro stabilization assay with T2-B*2705 or B*2703 transfected cells in the presence of synthetic peptides. One B*2705 associated peptide is derived from the sequence 169-179 in the second extracellular domain of several HLA class I molecules including HLA-B27. This sequence (RRYLENGKETL) is highly homologous to a previously reported sequence (LRRYLENGK) sharing similarities with proteins from enteric bacteria. We show here that it is naturally presented as a major endogenous peptide by B*2705 and B*2702 disease-associated subtypes and not by B*2703.\"\",\"\"The spondyloarthropathies are associated by an unknown mechanism with HLA-B27 and certain bacteria. HLA-B27 shares sequence with proteins from enteric bacteria. The B*2705 sequence contains a nonapeptide, LRRYLENGK, predicted to bind in the binding cleft of B27. Some nonapeptides from enteric organisms that share sequence with this nonapeptide of B27 also bind B27. These observations suggest an unappreciated mechanism for autoimmunity that may operate in the B27-associated spondyloarthropathies involving peptides bound to and derived from histocompatibility alleles.\"\"}\",\"{\"\"Differences in endogenous peptides presented by HLA-B*2705 and B*2703 allelic variants. Implications for susceptibility to spondylarthropathies.\"\",\"\"HLA-B27 binding of peptide from its own sequence and similar peptides from bacteria: implications for spondyloarthropathies.\"\",\"\"HLA-B27 presents a peptide from a polymorphic region of its own molecule with homology to proteins from arthritogenic bacteria.\"\",\"\"HLA-B27-restricted T cells from patients with ankylosing spondylitis recognize peptides from B*2705 that are similar to bacteria-derived peptides.\"\"}\",\"{\"\"E Frauendorf; H von Goessel; E May; E MÃ¤rker-Hermann\"\",\"\"F BoisgÃ©rault; V Tieng; M C Stolzenberg; N Dulphy; I Khalil; R Tamouza; D Charron; A Toubert\"\",\"\"F GarcÃ­a; A Marina; J P Albar; J A LÃ³pez de Castro\"\",\"\"R H Scofield; B Kurien; T Gross; W L Warren; J B Harley\"\"}\",\"{1995,1996,1997,2003}\"\n",
      "39204,IEDB_EPITOPE:39204,{LRSAEANQG},\"{\"\"(Q9XHP1.1,\\\\\"\"2S seed storage protein 1 precursor\\\\\"\",GENPEPT:Q9XHP1.1,70,78,\\\\\"\"Sesamum indicum (beniseed)\\\\\"\",NCBITaxon:4182)\"\"}\",\"Linear peptide\",LRSAEANQG,,9,{344},{IEDB_ASSAY:344},{324},{IEDB_REFERENCE:324},,,,,{Negative},,{IgE},0,,,,,,,,,,,,,,,,,,,,\"{NCBITaxon:314295,NCBITaxon:40674,NCBITaxon:7742,NCBITaxon:9443,NCBITaxon:9606}\",{NCBITaxon:9606},\"{\"\"Homo sapiens (human)\"\"}\",\"{NCBITaxon:1,NCBITaxon:2759,NCBITaxon:4182,NCBITaxon:58024,OBI:0100026}\",{NCBITaxon:4182},\"{\"\"Sesamum indicum (beniseed)\"\"}\",,,,\"{BFO:0000040,PR:000000001,taxon_protein:10002037,taxon_protein:10002037-other,taxon_protein:2759,taxon_protein:4182,taxon_protein:58024,UNIPROT:Q9XHP1}\",{UNIPROT:Q9XHP1},\"{\"\"Ses i 2\"\"}\",{NCBITaxon:4182},\"{\"\"Sesamum indicum (beniseed)\"\"}\",\"{DOID:1205,DOID:4,ONTIE:0003543}\",{DOID:1205},\"{\"\"allergic disease\"\"}\",\"{OBI:0001650,OBI:0001703,OBI:1110127}\",{OBI:0001650},\"{\"\"qualitative binding|western blot\"\"}\",,,,,,,,,,,,,,,{344},{IEDB_ASSAY:344},,,{Literature},{15536424},\"{\"\"BACKGROUND: The increased consumption of foods containing sesame seeds is paralleled by an increase in reported sesame-induced allergic reactions. OBJECTIVE: This study aimed at identifying and characterizing the linear B-cell epitopes of the 14-kd beta-globulin, the major allergen of sesame seed. METHODS: A peptide containing 71 amino acids (peptide B) was previously identified by us as the IgE-binding region on beta-globulin. To determine the amino acid sequence of the IgE-binding sites on peptide B, we synthesized overlapping peptides 20 and 10 amino acid residues long that span the entire length of peptide B, which were offset from each other by 10 and 2 amino acid residues, respectively. Sera from 20 subjects given diagnoses of allergy to sesame beta-globulin served to identify the epitopes by using the dot-blot test. RESULTS: At least 9 different IgE-recognition sites were identified on peptide B. Three of them, numbers 2, 3, and 13 (corresponding to amino acids 46-55, 48-57, and 76-86, respectively, in the beta-globulin sequence), appeared to be immunodominant IgE-binding epitopes. Also, these peptides were best recognized in terms of intensity of response. There was no obvious sequence motif shared by the 9 different IgE-binding epitopes of beta-globulin. However, approximately 60% of the amino acids represented in the epitopes are hydrophobic residues. CONCLUSION: Identification of the IgE-binding epitopes might provide a better understanding of the functional role the allergens play in the disease and might have implications for immunodiagnosis and probably immunotherapy.\"\"}\",\"{\"\"Identification and characterization of linear B-cell epitopes of beta-globulin, a major allergen of sesame seeds.\"\"}\",\"{\"\"Neomi Wolff; Shmuel Yannai; Nathan Karin; Yael Levy; Ram Reifen; Ilan Dalal; Uri Cogan\"\"}\",{2004}\n",
      "39205,IEDB_EPITOPE:39205,{LRSAGELELQFR},\"{\"\"(P43213.1,\\\\\"\"Pollen allergen Phl p 1 precursor\\\\\"\",GENPEPT:P43213.1,147,158,\\\\\"\"Phleum pratense (timothy grass)\\\\\"\",NCBITaxon:15957)\"\"}\",\"Linear peptide\",LRSAGELELQFR,,12,\"{1471039,1471198,1471201,1471202,1471263,1471264,1471265,1471266,1471267,1676977,1677084}\",\"{IEDB_ASSAY:1471039,IEDB_ASSAY:1471198,IEDB_ASSAY:1471201,IEDB_ASSAY:1471202,IEDB_ASSAY:1471263,IEDB_ASSAY:1471264,IEDB_ASSAY:1471265,IEDB_ASSAY:1471266,IEDB_ASSAY:1471267,IEDB_ASSAY:1676977,IEDB_ASSAY:1677084}\",\"{1005293,1016680}\",\"{IEDB_REFERENCE:1005293,IEDB_REFERENCE:1016680}\",,,,,\"{Negative,Positive}\",\"{\"\"T cell assay -Biological process measured\"\",\"\"T cell assay -MHC subset identification\"\",\"\"T cell assay -T cell subset identification\"\"}\",,0,,,,,,,,,,,,,,,,,,,,\"{NCBITaxon:314295,NCBITaxon:40674,NCBITaxon:7742,NCBITaxon:9443,NCBITaxon:9606}\",{NCBITaxon:9606},\"{\"\"Homo sapiens (human)\"\"}\",\"{NCBITaxon:1,NCBITaxon:15957,NCBITaxon:2759,NCBITaxon:4479,NCBITaxon:58024,OBI:0100026}\",{NCBITaxon:15957},\"{\"\"Phleum pratense (timothy grass)\"\"}\",\"{GO:0032991,GO:0042611,MRO:0000013,MRO:0001356,MRO:0001455}\",\"{MRO:0000013,MRO:0001455}\",\"{HLA-DR,human}\",\"{BFO:0000040,PR:000000001,taxon_protein:15957,taxon_protein:2759,taxon_protein:4479,taxon_protein:58024,UNIPROT:Q40967,UNIPROT_PRO:5004231587}\",{UNIPROT:Q40967},\"{\"\"Phl p 1\"\"}\",{NCBITaxon:15957},\"{\"\"Phleum pratense (timothy grass)\"\"}\",\"{DOID:0060496,DOID:0060497,DOID:0060498,DOID:1205,DOID:4,ONTIE:0003543}\",{DOID:0060498},\"{\"\"Timothy grass allergy\"\"}\",\"{OBI:0001414,OBI:0001445,OBI:0001450,OBI:0002055,OBI:0002071,OBI:1110037,OBI:1110129,OBI:1110131,OBI:1110151,OBI:1110152,OBI:1110153,OBI:1110180}\",\"{OBI:1110151,OBI:1110152,OBI:1110153,OBI:1110180}\",\"{\"\"IFNg release|ELISA\"\",\"\"IL-2 release|ELISA\"\",\"\"IL-4 release|ELISA\"\",proliferation|3H-thymidine}\",,,,,,,,,,{II},{class},,\"{1471039,1471198,1471201,1471202,1471263,1471264,1471265,1471266,1471267,1676977,1677084}\",\"{IEDB_ASSAY:1471039,IEDB_ASSAY:1471198,IEDB_ASSAY:1471201,IEDB_ASSAY:1471202,IEDB_ASSAY:1471263,IEDB_ASSAY:1471264,IEDB_ASSAY:1471265,IEDB_ASSAY:1471266,IEDB_ASSAY:1471267,IEDB_ASSAY:1676977,IEDB_ASSAY:1677084}\",,,,,{Literature},\"{8543758,9678832}\",\"{\"\"BACKGROUND AND OBJECTIVE: The mechanisms operative in specific immunotherapy (SIT) of Type I allergy are not completely understood. In the present study we evaluated immunological changes during SIT in pollinosis. METHOD: The mechanisms operative in specific immunotherapy (SIT) of Type I allergy are not completely understood. In the present study we evaluated immunological changes during SIT in pollinosis.Eight patients suffering from pollinosis (monosensitized to grass pollen) were treated with conventional SIT. All subjects had IgE specific for Phl p 1, a major allergen of timothy grass. In vitro changes in the immunological reactivity to grass pollen extract and to recombinant Phl p 1 were evaluated. Subjects were examined at three occasions: before, after 3 months and after 1 year of SIT. RESULTS: The mechanisms operative in specific immunotherapy (SIT) of Type I allergy are not completely understood. In the present study we evaluated immunological changes during SIT in pollinosis.Eight patients suffering from pollinosis (monosensitized to grass pollen) were treated with conventional SIT. All subjects had IgE specific for Phl p 1, a major allergen of timothy grass. In vitro changes in the immunological reactivity to grass pollen extract and to recombinant Phl p 1 were evaluated. Subjects were examined at three occasions: before, after 3 months and after 1 year of SIT.Serological analysis revealed a marked increase of grass pollen- and Phl p 1-specific IgG, titres of specific IgE did not change significantly. Lymphoproliferative responses to grass pollen extract and rPhl p 1 were reduced already after 3 months of treatment. Accordingly, the cloning efficiency for Phl p 1-specific T-cell clones (TCC) dropped markedly in all patients. The majority of allergen-specific TCC raised before SIT revealed a TH2-like pattern of cytokine production, TCC established after SIT revealed TH1 characteristics. This shift was due to a decrease in IL-4 rather than an increase in IFN-production by T cells. Investigations of the epitopes recognized by T cells before and after SIT did not reveal the outgrowth of new ('protecting') specificities. We could not observe induction of allergen-specific CD8+ lymphocytes (supressor cells). CONCLUSION: The mechanisms operative in specific immunotherapy (SIT) of Type I allergy are not completely understood. In the present study we evaluated immunological changes during SIT in pollinosis.Eight patients suffering from pollinosis (monosensitized to grass pollen) were treated with conventional SIT. All subjects had IgE specific for Phl p 1, a major allergen of timothy grass. In vitro changes in the immunological reactivity to grass pollen extract and to recombinant Phl p 1 were evaluated. Subjects were examined at three occasions: before, after 3 months and after 1 year of SIT.Serological analysis revealed a marked increase of grass pollen- and Phl p 1-specific IgG, titres of specific IgE did not change significantly. Lymphoproliferative responses to grass pollen extract and rPhl p 1 were reduced already after 3 months of treatment. Accordingly, the cloning efficiency for Phl p 1-specific T-cell clones (TCC) dropped markedly in all patients. The majority of allergen-specific TCC raised before SIT revealed a TH2-like pattern of cytokine production, TCC established after SIT revealed TH1 characteristics. This shift was due to a decrease in IL-4 rather than an increase in IFN-production by T cells. Investigations of the epitopes recognized by T cells before and after SIT did not reveal the outgrowth of new ('protecting') specificities. We could not observe induction of allergen-specific CD8+ lymphocytes (supressor cells).Our data indicate that -- on the level of TH lymphocytes -- SIT induces tolerance to the allergen and a modulation of the cytokine pattern produced in response to allergen stimulation.\"\",\"\"BACKGROUND: The use of peptides representing T-cell epitopes of allergens is a modern concept for improvement of specific immunotherapy. A prerequisite for this approach is the identification of T-cell epitopes of atopic allergens. METHODS: The use of peptides representing T-cell epitopes of allergens is a modern concept for improvement of specific immunotherapy. A prerequisite for this approach is the identification of T-cell epitopes of atopic allergens.T-cell lines and 40 T-cell clones (TCC) specific for Phl p 1, the group I allergen of timothy grass (Phleum pratense), were established from the peripheral blood of nine patients allergic to grass pollen and mapped for epitope specificity by using overlapping dodecapeptides. Phenotype and cytokine production profile of TCC were investigated. Representative TCC were analyzed for HLA-restriction, T-cell receptor V beta gene usage, and crossreactivity with grass pollen extracts from Dactylis glomerata, Poa pratensis, Lolium perenne, Secale cereale, and selected amino acid sequence-derived peptides. RESULTS: The use of peptides representing T-cell epitopes of allergens is a modern concept for improvement of specific immunotherapy. A prerequisite for this approach is the identification of T-cell epitopes of atopic allergens.T-cell lines and 40 T-cell clones (TCC) specific for Phl p 1, the group I allergen of timothy grass (Phleum pratense), were established from the peripheral blood of nine patients allergic to grass pollen and mapped for epitope specificity by using overlapping dodecapeptides. Phenotype and cytokine production profile of TCC were investigated. Representative TCC were analyzed for HLA-restriction, T-cell receptor V beta gene usage, and crossreactivity with grass pollen extracts from Dactylis glomerata, Poa pratensis, Lolium perenne, Secale cereale, and selected amino acid sequence-derived peptides.Patients displayed IgE binding to all grass species investigated. Forty TCC were established. Fifteen T-cell epitopes could be identified on Phl p 1. Of 40 TCC, 39 displayed the helper cell (Th) phenotype; one clone was CD8+. Specific stimulation induced a Th2-like type of cytokine production in 20 of 39 TCC. Crossreactivity studies revealed crossreacting and non-crossreacting T-cell epitopes. CONCLUSION: The use of peptides representing T-cell epitopes of allergens is a modern concept for improvement of specific immunotherapy. A prerequisite for this approach is the identification of T-cell epitopes of atopic allergens.T-cell lines and 40 T-cell clones (TCC) specific for Phl p 1, the group I allergen of timothy grass (Phleum pratense), were established from the peripheral blood of nine patients allergic to grass pollen and mapped for epitope specificity by using overlapping dodecapeptides. Phenotype and cytokine production profile of TCC were investigated. Representative TCC were analyzed for HLA-restriction, T-cell receptor V beta gene usage, and crossreactivity with grass pollen extracts from Dactylis glomerata, Poa pratensis, Lolium perenne, Secale cereale, and selected amino acid sequence-derived peptides.Patients displayed IgE binding to all grass species investigated. Forty TCC were established. Fifteen T-cell epitopes could be identified on Phl p 1. Of 40 TCC, 39 displayed the helper cell (Th) phenotype; one clone was CD8+. Specific stimulation induced a Th2-like type of cytokine production in 20 of 39 TCC. Crossreactivity studies revealed crossreacting and non-crossreacting T-cell epitopes.Phl p 1, a major grass pollen allergen, harbors multiple T-cell epitopes. Species-specific and crossreacting T-cell epitopes exist among group I allergens of grasses. Epitope recognition patterns could not be correlated with particular HLA haplotypes. A restricted T-cell receptor V beta gene usage was not observed.\"\"}\",\"{\"\"Immunological changes during specific immunotherapy of grass pollen allergy: reduced lymphoproliferative responses to allergen and shift from TH2 to TH1 in T-cell clones specific for Phl p 1, a major grass pollen allergen.\"\",\"\"T-cell epitopes of Phl p 1, major pollen allergen of timothy grass (Phleum pratense): evidence for crossreacting and non-crossreacting T-cell epitopes within grass group I allergens.\"\"}\",\"{\"\"C Ebner; U Siemann; B Bohle; M Willheim; U Wiedermann; S Schenk; F Klotz; H Ebner; D Kraft; O Scheiner\"\",\"\"S Schenk; H Breiteneder; M Susani; N Najafian; S Laffer; M DuchÃªne; R Valenta; G Fischer; O Scheiner; D Kraft\"\"}\",\"{1995,1997}\"\n",
      "39206,IEDB_EPITOPE:39206,{LRSAGELELQFRRVKCKYPEG},\"{\"\"(P43213.1,\\\\\"\"Pollen allergen Phl p 1 precursor\\\\\"\",GENPEPT:P43213.1,147,167,\\\\\"\"Phleum pratense (timothy grass)\\\\\"\",NCBITaxon:15957)\"\"}\",\"Linear peptide\",LRSAGELELQFRRVKCKYPEG,,21,{1467277},{IEDB_ASSAY:1467277},{1005373},{IEDB_REFERENCE:1005373},,,,,{Positive},,{IgE},0,,,,,,,,,,,,,,,,,,,,\"{NCBITaxon:10088,NCBITaxon:10090,NCBITaxon:314147,NCBITaxon:40674,NCBITaxon:7742}\",,\"{\"\"Mus musculus BALB/c\"\"}\",\"{NCBITaxon:1,NCBITaxon:15957,NCBITaxon:2759,NCBITaxon:4479,NCBITaxon:58024,OBI:0100026}\",{NCBITaxon:15957},\"{\"\"Phleum pratense (timothy grass)\"\"}\",,,,\"{BFO:0000040,PR:000000001,taxon_protein:15957,taxon_protein:2759,taxon_protein:4479,taxon_protein:58024,UNIPROT:Q40967,UNIPROT_PRO:5004231587}\",{UNIPROT:Q40967},\"{\"\"Phl p 1\"\"}\",{NCBITaxon:15957},\"{\"\"Phleum pratense (timothy grass)\"\"}\",\"{DOID:1205,DOID:4,ONTIE:0003543}\",{DOID:1205},\"{\"\"allergic disease\"\"}\",\"{OBI:0001697,OBI:0001698,OBI:0001706,OBI:1110127}\",{OBI:0001697},\"{\"\"decreased disease|in vivo assay\"\"}\",,,,,,,,,,,,,,,{1467277},{IEDB_ASSAY:1467277},,,{Literature},{16083792},\"{\"\"BACKGROUND: Specific immunotherapy is less effective in patients with multiple allergic sensitizations compared with monosensitized patients. OBJECTIVE: We therefore established a mouse model of polysensitization to the major birch and timothy grass pollen allergens to test whether allergic polysensitization can be prevented by multiple allergen application via the mucosal route. METHODS: Female BALB/c mice were immunized intraperitoneally with recombinant (r) Bet v 1, rPhl p 1, and rPhl p 5. For intranasal tolerance induction, a mixture of the complete allergens was compared with allergen-derived immunodominant peptides applied either as a mixture or as a synthetic hybrid peptide composed of the T-cell epitopes of the 3 allergens. RESULTS: Intranasal application of the mixture of the complete allergen molecules did not prevent polysensitization to the same allergens. In contrast, pretreatment with a mixture of the immunodominant peptides or the hybrid peptide led to significantly reduced allergen-specific IgE responses in sera, IL-4 production in vitro, and suppressed airway inflammation. TGF-beta mRNA levels did not change, and IL-10 production was significantly suppressed after the pretreatment. The fact that the reduction of IL-10 was not abrogated after IL-10 receptor neutralization and that tolerance was not transferable with splenocytes indicates that the suppression of T(H)2 responses in polysensitized mice might not be mediated by immunosuppressive cytokines. CONCLUSION: Our study demonstrates that it is possible to suppress allergic immune responses simultaneously to several clinical important allergens. Thus, mucosal coapplication of selected peptides/hybrid peptides could be the basis of a mucosal polyvalent vaccine to prevent multiple sensitivities in atopic patients.\"\"}\",\"{\"\"Intranasal tolerance induction with polypeptides derived from 3 noncross-reactive major aeroallergens prevents allergic polysensitization in mice.\"\"}\",\"{\"\"Karin Hufnagl; Birgit Winkler; Margit Focke; Rudolf Valenta; Otto Scheiner; Harald Renz; Ursula Wiedermann\"\"}\",{2005}\n",
      "39207,IEDB_EPITOPE:39207,{LRSDLSRELEEISERLEEAV},\"{\"\"(SRC7000,\\\\\"\"Skeletal muscle myosin heavy chain 1\\\\\"\",ONTIE:0002044,,,\\\\\"\"Homo sapiens (human)\\\\\"\",NCBITaxon:9606)\"\"}\",\"Linear peptide\",LRSDLSRELEEISERLEEAV,,20,\"{1326047,1326067,1326077}\",\"{IEDB_ASSAY:1326047,IEDB_ASSAY:1326067,IEDB_ASSAY:1326077}\",{1002099},{IEDB_REFERENCE:1002099},,,,,{Positive},\"{\"\"T cell assay -Biological process measured\"\",\"\"T cell assay -T cell subset identification\"\"}\",,0,,,,,,,,,,,,,,,,,,,,\"{NCBITaxon:314295,NCBITaxon:40674,NCBITaxon:7742,NCBITaxon:9443,NCBITaxon:9606}\",{NCBITaxon:9606},\"{\"\"Homo sapiens Caucasian\"\",\"\"Homo sapiens (human)\"\"}\",\"{NCBITaxon:1,NCBITaxon:2759,NCBITaxon:314295,NCBITaxon:33208,NCBITaxon:40674,NCBITaxon:7742,NCBITaxon:9443,NCBITaxon:9606,OBI:0100026}\",{NCBITaxon:9606},\"{\"\"Homo sapiens (human)\"\"}\",\"{GO:0032991,GO:0042611,MRO:0001356,MRO:0001455}\",{MRO:0001455},{human},\"{BFO:0000040,PR:000000001,taxon_protein:2759,taxon_protein:314295,taxon_protein:33208,taxon_protein:40674,taxon_protein:7742,taxon_protein:9443,taxon_protein:9606,taxon_protein:9606-other}\",{taxon_protein:9606-other},\"{\"\"Other Homo sapiens (human) protein\"\"}\",{NCBITaxon:9606},\"{\"\"Homo sapiens (human)\"\"}\",,,,\"{OBI:0002055,OBI:0002071,OBI:1110037,OBI:1110131,OBI:1110180}\",{OBI:1110180},{proliferation|3H-thymidine},,,,,,,,,,{II},{class},,\"{1326047,1326067,1326077}\",\"{IEDB_ASSAY:1326047,IEDB_ASSAY:1326067,IEDB_ASSAY:1326077}\",,,,,{Literature},{7981150},\"{\"\"Rheumatic fever (RF) follows a throat infection with different M-serotypes of beta-hemolytic group A streptococci (GAS) and can affect different tissues, predominantly the heart. It is thought to be an autoimmune illness. Although histological examination of affected heart shows an infiltrate consisting mainly of T cells, antigens or epitopes that could be putative targets of autoimmune T cells have not been identified. We have examined the T cell response to the conserved C-terminal region of the M protein--a streptococcal surface coiled-coil protein which is the target of opsonic antibodies and antibodies which cross-react with human heart tissue. Australian Aborigine, Caucasian and Thai patients, controls and mice were studied to define regions of the protein immunogenic for T cells, and T cell lines and clones were tested for cross-reactivity to myosin as well as an extract of RF-diseased mitral heart valve. Murine (B10, B10.D2, B10.BR) M peptide-specific T cells were often cross-reactive for other M peptides but did not cross-react with human heart antigens. Patients with RF or other heart diseases, or control subjects exposed more commonly to GAS were more likely to have T cell responses to the M protein, with many regions of the C-terminus being recognized. T cell lines and a clone specific for different M peptides were generated from five donors. Cross-reactivity could be shown between different M peptides, but unlike murine M peptide-specific T cells three of the human T cell lines reacted strongly to peptides representing homologous regions of cardiac and skeletal muscle myosins, and two of these lines also responded to porcine myosin and an extract of human rheumatic mitral valve. However, these last two lines were derived from a normal donor without history of RF or other heart disease. Our data demonstrate that regions of the M protein, including regions that are being considered as subunit vaccines, have the potential to stimulate pre-existing heart cross-reactive T cells, but that the ability of such T cells to cross-react (as measured in vitro) is not in itself sufficient to lead to disease.\"\"}\",\"{\"\"Identification of T cell autoepitopes that cross-react with the C-terminal segment of the M protein of group A streptococci.\"\"}\",\"{\"\"S Pruksakorn; B Currie; E Brandt; C Phornphutkul; S Hunsakunachai; A Manmontri; J H Robinson; M A Kehoe; A Galbraith; M F Good\"\"}\",{1994}\n",
      "39208,IEDB_EPITOPE:39208,{LRSEAFEYY},\"{\"\"(P59641.2,\\\\\"\"Replicase polyprotein 1ab\\\\\"\",GENPEPT:P59641.2,1604,1612,\\\\\"\"SARS coronavirus Tor2 (Severe acute respiratory syndrome-related coronavirus Tor2)\\\\\"\",NCBITaxon:227984)\"\"}\",\"Linear peptide\",LRSEAFEYY,,9,\"{1023060,1023061,1023062,1023063,1023064,1023065}\",\"{IEDB_ASSAY:1023060,IEDB_ASSAY:1023061,IEDB_ASSAY:1023062,IEDB_ASSAY:1023063,IEDB_ASSAY:1023064,IEDB_ASSAY:1023065}\",{1000425},{IEDB_REFERENCE:1000425},{1000071},{IEDB_SUBMISSION:1000071},,,\"{Negative,Positive-Intermediate,Positive-Low}\",,,0,,,,,,,,,,,,,,,,,,,,\"{NCBITaxon:314295,NCBITaxon:40674,NCBITaxon:7742,NCBITaxon:9443,NCBITaxon:9606}\",{NCBITaxon:9606},\"{\"\"Homo sapiens (human)\"\"}\",\"{NCBITaxon:1,NCBITaxon:10239,NCBITaxon:11118,NCBITaxon:227984,NCBITaxon:2509511,NCBITaxon:694002,OBI:0100026}\",{NCBITaxon:227984},\"{\"\"SARS coronavirus Tor2 (Severe acute respiratory syndrome-related coronavirus Tor2)\"\"}\",\"{GO:0032991,GO:0042611,MRO:0000011,MRO:0001005,MRO:0001006,MRO:0001031,MRO:0001032,MRO:0001038,MRO:0001042,MRO:0001044,MRO:0001355,MRO:0001454,MRO:0001528,MRO:0001532,MRO:0001533,MRO:0001536,MRO:0001538,MRO:0001540,MRO:0001655,MRO:0001675}\",\"{MRO:0001006,MRO:0001031,MRO:0001032,MRO:0001038,MRO:0001042,MRO:0001044}\",\"{HLA-A*01:01,HLA-A*23:01,HLA-A*24:02,HLA-A*26:01,HLA-A*29:02,HLA-A*30:02}\",{UNIPROT_PRO:0000037311},,,,,,,,\"{OBI:0001553,OBI:0001564,OBI:0001988,OBI:0001989,OBI:0002075,OBI:1110126}\",{OBI:0001564},\"{\"\"dissociation constant KD (~IC50)|purified MHC/competitive/radioactivity|nM\"\"}\",,,,,,,,,,{I},\"{\"\"2 chain\"\"}\",,,,,,\"{1023060,1023061,1023062,1023063,1023064,1023065}\",\"{IEDB_ASSAY:1023060,IEDB_ASSAY:1023061,IEDB_ASSAY:1023062,IEDB_ASSAY:1023063,IEDB_ASSAY:1023064,IEDB_ASSAY:1023065}\",{Submission},,\"{\"\"This work was supported by funds provided by the NIH/NIAID, through contract and/or grant ID NIH NIAID RO1 AI59799\"\"}\",,\"{\"\"John Sidney; Jason Botten; Benjamin Neuman; Michael Buchmeier; Alessandro Sette\"\"}\",{2006}\n",
      "39209,IEDB_EPITOPE:39209,{LRSINGSQPV},\"{\"\"(P68623.1,\\\\\"\"Protein L5\\\\\"\",GENPEPT:P68623.1,111,120,\\\\\"\"Vaccinia virus WR (Vaccinia virus (strain WR))\\\\\"\",NCBITaxon:10254)\"\"}\",\"Linear peptide\",LRSINGSQPV,,10,{1367477},{IEDB_ASSAY:1367477},{1003610},{IEDB_REFERENCE:1003610},{1000311},{IEDB_SUBMISSION:1000311},,,{Negative},\"{\"\"Not determined\"\"}\",,1,,,,,,,,,,,,,,,,,,,,\"{NCBITaxon:10088,NCBITaxon:10090,NCBITaxon:314147,NCBITaxon:40674,NCBITaxon:7742}\",,\"{\"\"Mus musculus C57BL/6\"\"}\",\"{NCBITaxon:1,NCBITaxon:10239,NCBITaxon:10240,NCBITaxon:10242,NCBITaxon:10245,NCBITaxon:10254,OBI:0100026}\",{NCBITaxon:10254},\"{\"\"Vaccinia virus WR (Vaccinia virus (strain WR))\"\"}\",\"{GO:0032991,GO:0042611,MRO:0000010,MRO:0000965,MRO:0000966,MRO:0001355,MRO:0001460,MRO:0001491,MRO:0001520,MRO:0001759}\",{MRO:0000966},{H2-Db},\"{BFO:0000040,PR:000000001,taxon_protein:10239,taxon_protein:10240,taxon_protein:10242,taxon_protein:10245,UNIPROT:P68622}\",{UNIPROT:P68622},\"{\"\"Protein L5\"\"}\",{NCBITaxon:10245},\"{\"\"Vaccinia virus (vaccinia virus VV)\"\"}\",,,,\"{OBI:0001414,OBI:0002055,OBI:1110037,OBI:1110059,OBI:1110129}\",{OBI:1110059},\"{\"\"IFNg release|ELISPOT\"\"}\",,,,,,,,,,{I},\"{\"\"2 chain\"\"}\",,{1367477},{IEDB_ASSAY:1367477},,,,,{Submission},,\"{\"\"Opinions diverge regarding the value of predictive algorithms for identifying TCD8+-cell epitopes. This is partly due to the poor performance of some algorithms, and demonstration of epitopes evading prediction such as those with non-canonical motifs or post-translational modifications. We determined the fraction of a complex anti-viral response attributable to TCD8+-cells recognizing conventionally predictable epitopes, using vaccinia virus (VACV) in a mouse model. We found that almost 95% of the TCD8+-cells responding to virus-infected cells recognize predicted epitopes, suggesting that with developed bioinformatic tools, the majority of TCD8+-cell epitopes for complex pathogens are predictable. This finding has important implications for vaccine development.\"\"}\",\"{\"\"A consensus epitope prediction approach identifies the breadth of murine CD8+ T cell responses to vaccinia virus\"\"}\",\"{\"\"Magdalini Moutaftsi; Bjoern Peters; Valerie Pasquetto; John Sidney; David C. Tscharke; Huynh-Hoa Bui; Howard Grey; Alessandro Sette\"\"}\",{2007}\n",
      "39210,IEDB_EPITOPE:39210,{LRSKIIQKPY},\"{\"\"(O13332.1,\\\\\"\"Aureobasidin A resistance protein homolog\\\\\"\",GENPEPT:O13332.1,6,15,\\\\\"\"Candida albicans\\\\\"\",NCBITaxon:5476)\"\"}\",\"Linear peptide\",LRSKIIQKPY,,10,{1181212},{IEDB_ASSAY:1181212},{1000983},{IEDB_REFERENCE:1000983},{1000200},{IEDB_SUBMISSION:1000200},,,{Negative},,,0,,,,,,,,,,,,,,,,,,,,\"{NCBITaxon:40674,NCBITaxon:7742,NCBITaxon:9443,NCBITaxon:9527,NCBITaxon:9539,NCBITaxon:9544}\",{NCBITaxon:9544},\"{\"\"Macaca mulatta (rhesus macaque)\"\"}\",\"{NCBITaxon:1,NCBITaxon:1535326,NCBITaxon:2759,NCBITaxon:4751,NCBITaxon:4892,NCBITaxon:5476,OBI:0100026}\",{NCBITaxon:5476},\"{\"\"Candida albicans\"\"}\",\"{GO:0032991,GO:0042611,MRO:0001355,MRO:0001362,MRO:0001369,MRO:0001466}\",{MRO:0001369},{Mamu-B*017:04},\"{BFO:0000040,PR:000000001,taxon_protein:1535326,taxon_protein:2759,taxon_protein:4751,taxon_protein:4892,taxon_protein:5476,UNIPROT:O13332}\",{UNIPROT:O13332},\"{\"\"Inositol phosphorylceramide synthase\"\"}\",{NCBITaxon:5476},\"{\"\"Candida albicans\"\"}\",,,,\"{OBI:0001553,OBI:0001564,OBI:0001988,OBI:0001989,OBI:0002075,OBI:1110126}\",{OBI:0001564},\"{\"\"dissociation constant KD (~IC50)|purified MHC/competitive/radioactivity|nM\"\"}\",,,,,,,,,,{I},\"{\"\"2 chain\"\"}\",,,,,,{1181212},{IEDB_ASSAY:1181212},{Submission},,,,\"{\"\"John Sidney; Scott Southwood; Alessandro Sette\"\"}\",{2006}"
     ]
    },
    {
     "name": "stderr",
     "output_type": "stream",
     "text": [
      "  % Total    % Received % Xferd  Average Speed   Time    Time     Time  Current\n",
      "                                 Dload  Upload   Total   Spent    Left  Speed\n",
      "100 41525    0 41525    0     0  44602      0 --:--:-- --:--:-- --:--:--  109k\n"
     ]
    }
   ],
   "source": [
    "%%bash\n",
    "#start with downloading the first 10 lines and save it to a file\n",
    "curl \"https://query-api.iedb.org/epitope_search?limit=10\" -H  \"accept: text/csv\" "
   ]
  },
  {
   "cell_type": "markdown",
   "id": "1a2b17e4-2784-4478-9b68-51a6c0fb9bff",
   "metadata": {},
   "source": [
    "Okay, that became a very large file. Save it to a variable directly, instead of printing it:\n",
    "https://stackoverflow.com/questions/13735051/how-to-capture-curl-output-to-a-file\n",
    "<br> Bonus, there are also a solution to append data to a previous file"
   ]
  },
  {
   "cell_type": "code",
   "execution_count": 27,
   "id": "6ded7872-ccc8-4aeb-9b1c-39a104f7435f",
   "metadata": {},
   "outputs": [
    {
     "name": "stdout",
     "output_type": "stream",
     "text": [
      "the file is saved in: \n",
      "/mnt/c/Users/nipagh/Desktop/Python_projects/Course_work\n"
     ]
    },
    {
     "name": "stderr",
     "output_type": "stream",
     "text": [
      "  % Total    % Received % Xferd  Average Speed   Time    Time     Time  Current\n",
      "                                 Dload  Upload   Total   Spent    Left  Speed\n",
      "100 62231    0 62231    0     0  55414      0 --:--:--  0:00:01 --:--:--  105k\n"
     ]
    }
   ],
   "source": [
    "%%bash\n",
    "echo \"the file is saved in: \"\n",
    "pwd #this is important to call, it will let you know where the file is saved\n",
    "curl \"https://query-api.iedb.org/epitope_search?limit=10\" -H 'Prefer: count=exact' -o output.csv  #O is for output. \n"
   ]
  },
  {
   "cell_type": "markdown",
   "id": "0907bc32-05dd-4f2f-829f-d17996b891aa",
   "metadata": {},
   "source": [
    "Awesome! After a couple of seconds, an \"output.csv\" file appeared in the working directory (Python_projects/Course_work)\n",
    "\n",
    "Try downloading more:\n",
    "\n",
    "    100.000 entries"
   ]
  },
  {
   "cell_type": "code",
   "execution_count": 101,
   "id": "8754fce0-c5a6-4bbc-9eff-5912bacc95cf",
   "metadata": {
    "tags": []
   },
   "outputs": [
    {
     "name": "stdout",
     "output_type": "stream",
     "text": [
      "the file is saved in: \n",
      "/mnt/c/Users/nipagh/Desktop/Python_projects/Course_work\n"
     ]
    },
    {
     "name": "stderr",
     "output_type": "stream",
     "text": [
      "  % Total    % Received % Xferd  Average Speed   Time    Time     Time  Current\n",
      "                                 Dload  Upload   Total   Spent    Left  Speed\n",
      "100 83.5M    0 83.5M    0     0   763k      0 --:--:--  0:01:52 --:--:--  490k\n"
     ]
    }
   ],
   "source": [
    "%%bash\n",
    "echo \"the file is saved in: \"\n",
    "pwd #print working dir\n",
    "curl \"https://query-api.iedb.org/epitope_search?limit=100000\" -H 'accept: text/csv' -o output.csv  #-o is for output. "
   ]
  },
  {
   "cell_type": "markdown",
   "id": "e281f7f0-a102-41e3-97c5-bdf20106023c",
   "metadata": {},
   "source": [
    "It took a bit more than a minute to download the appropriate dataset. Let's inspect it"
   ]
  },
  {
   "cell_type": "code",
   "execution_count": 105,
   "id": "4b8f997e-f009-4175-b154-92875a40ad4f",
   "metadata": {},
   "outputs": [],
   "source": [
    "data = pd.read_csv('output.csv', low_memory = False)"
   ]
  },
  {
   "cell_type": "markdown",
   "id": "2b319315-adb8-4846-b9e2-d8cc67660e6f",
   "metadata": {},
   "source": [
    "I still cannot download more than 10.000 entires at a time. That sucks\n",
    "\n",
    "Can I reduce the number of columns that I am interested in?\n",
    "\n",
    "The documentation for the Swagger URL query API was immensely helpful (see list of column names and what input they take and how):https://query-api.iedb.org/docs/swagger/#/epitope_search/get_epitope_search\n",
    "\n",
    "    You can search for a specific value by using eq._value_of_interest_\n",
    "    You can search for a value within a nested cell (e.g. taxonomy search) by using cs.{10239, next, this too}. \n",
    "\n",
    "   "
   ]
  },
  {
   "cell_type": "code",
   "execution_count": 267,
   "id": "8f48eee7-0f6d-4748-90f6-5b6eb7113f2d",
   "metadata": {},
   "outputs": [
    {
     "name": "stdout",
     "output_type": "stream",
     "text": [
      "base_url: https://query-api.iedb.org\n",
      "URL with table name: https://query-api.iedb.org/epitope_search?\n",
      "cs.%7BNCBITaxon:10239%7D\n",
      "URL with table name, and clade: https://query-api.iedb.org/epitope_search?source_organism_iri_search=cs.%7BNCBITaxon:10239%7D\n",
      "URL with table name, and clade: https://query-api.iedb.org/epitope_search?source_organism_iri_search=cs.%7BNCBITaxon:10239%7D&qualitative_measures=cs.%7BPositive%7D\n",
      "URL with table name, clade, measures, and outcome: https://query-api.iedb.org/epitope_search?source_organism_iri_search=cs.%7BNCBITaxon:10239%7D&qualitative_measures=cs.%7BPositive%7D&assay_iri_search=cs.%7BOBI:1110037%7D\n",
      "URL with table name, clade, measures, and outcome: https://query-api.iedb.org/epitope_search?source_organism_iri_search=cs.%7BNCBITaxon:10239%7D&qualitative_measures=cs.%7BPositive%7D&assay_iri_search=cs.%7BOBI:1110037%7D&mhc_allele_iri_search=cs.%7BMRO:0001675%7D\n",
      "URL for iteration over cols of interest: https://query-api.iedb.org/epitope_search?source_organism_iri_search=cs.%7BNCBITaxon:10239%7D&qualitative_measures=cs.%7BPositive%7D&assay_iri_search=cs.%7BOBI:1110037%7D&mhc_allele_iri_search=cs.%7BMRO:0001675%7D&select=\n",
      "Output_url: https://query-api.iedb.org/epitope_search?source_organism_iri_search=cs.%7BNCBITaxon:10239%7D&qualitative_measures=cs.%7BPositive%7D&assay_iri_search=cs.%7BOBI:1110037%7D&mhc_allele_iri_search=cs.%7BMRO:0001675%7D&select=mhc_allele_iri_search,qualitative_measures,source_organism_iri_search,parent_source_antigen_names,linear_sequence,e_modification,linear_sequence_length,mhc_allele_names,source_organism_names,iedb_assay_ids,reference_ids,\n",
      "This is the final URL https://query-api.iedb.org/epitope_search?source_organism_iri_search=cs.%7BNCBITaxon:10239%7D&qualitative_measures=cs.%7BPositive%7D&assay_iri_search=cs.%7BOBI:1110037%7D&mhc_allele_iri_search=cs.%7BMRO:0001675%7D&select=mhc_allele_iri_search,qualitative_measures,source_organism_iri_search,parent_source_antigen_names,linear_sequence,e_modification,linear_sequence_length,mhc_allele_names,source_organism_names,iedb_assay_ids,reference_ids\n",
      " \n",
      "HTTP/1.1 200 OK\n",
      "Server: nginx/1.14.2\n",
      "Date: Fri, 27 Aug 2021 14:11:14 GMT\n",
      "Content-Type: application/json; charset=utf-8\n",
      "Connection: keep-alive\n",
      "Content-Range: 0-7212/7213\n",
      "Content-Location: /epitope_search?assay_iri_search=cs.%7BOBI%3A1110037%7D&mhc_allele_iri_search=cs.%7BMRO%3A0001675%7D&qualitative_measures=cs.%7BPositive%7D&select=mhc_allele_iri_search%2Cqualitative_measures%2Csource_organism_iri_search%2Cparent_source_antigen_names%2Clinear_sequence%2Ce_modification%2Clinear_sequence_length%2Cmhc_allele_names%2Csource_organism_names%2Ciedb_assay_ids%2Creference_ids&source_organism_iri_search=cs.%7BNCBITaxon%3A10239%7D\n",
      "\n",
      " \n",
      "the file is saved in: \n",
      "/mnt/c/Users/nipagh/Desktop/Python_projects/Course_work\n"
     ]
    },
    {
     "name": "stderr",
     "output_type": "stream",
     "text": [
      "  % Total    % Received % Xferd  Average Speed   Time    Time     Time  Current\n",
      "                                 Dload  Upload   Total   Spent    Left  Speed\n",
      "  0     0    0     0    0     0      0      0 --:--:--  0:00:08 --:--:--     0\n",
      "  % Total    % Received % Xferd  Average Speed   Time    Time     Time  Current\n",
      "                                 Dload  Upload   Total   Spent    Left  Speed\n",
      "100 3955k    0 3955k    0     0   467k      0 --:--:--  0:00:08 --:--:-- 1006k\n"
     ]
    }
   ],
   "source": [
    "%%bash\n",
    "#Get something that looks like:\n",
    "#https://query-api.iedb.org/epitope_search?limit=10&select=structure_id,linear_sequence\n",
    "#'https://query-api.iedb.org/mhc_search?linear_sequence=eq.SIINFEKL'\n",
    "#Trial and error, but the array cells can be reached by contains (cd.). It needs to be exactly what the cells can say\n",
    "#\"https://query-api.iedb.org/epitope_search?source_organism_iri_search=cs.%7BNCBITaxon:10239%7D\n",
    "#For T cell assays: assay_iri_search=cs.%7BOBI:1110037%7D   http://www.ontobee.org/ontology/OBI?iri=http://purl.obolibrary.org/obo/OBI_1110037\n",
    "\n",
    "\n",
    "#what is the base url that we will modify?\n",
    "base_url=\"https://query-api.iedb.org\"\n",
    "echo \"base_url: $base_url\"\n",
    "    \n",
    "#Define and add table of interest\n",
    "table_name='epitope_search'\n",
    "modified_url=\"$base_url/$table_name?\"\n",
    "echo \"URL with table name: $modified_url\"\n",
    "\n",
    "#Define and add clade filters of interest\n",
    "#IEDB search tool at IEDB.org appear to use an organism/clade ID for all viruses. Virus (ID:10239), can I filter for that?\n",
    "Clade_interest=\"cs.%7BNCBITaxon:10239%7D\" #10239 is viruses generally.\n",
    "echo $Clade_interest\n",
    "modified_url=$modified_url\"source_organism_iri_search=$Clade_interest\"\n",
    "echo \"URL with table name, and clade: $modified_url\"\n",
    "\n",
    "#Epitope search if needed\n",
    "    #Epitope_interest=\"eq.HPVGEADYFEY\"\n",
    "    #modified_url=\"$modified_url?linear_sequence=$Epitope_interest\"\n",
    "    #echo \"URL with table name and epitope target: $modified_url\"\n",
    "    \n",
    "#Remove all negative assay information\n",
    "#the relevant column is qualitative_measures - This will never change\n",
    "modified_url=$modified_url\"&qualitative_measures=cs.%7BPositive%7D\"\n",
    "echo \"URL with table name, and clade: $modified_url\"\n",
    "\n",
    "#Remove all non-Tcell assay information\n",
    "#the relevant column is qualitative_measures - This will never change\n",
    "modified_url=$modified_url\"&assay_iri_search=cs.%7BOBI:1110037%7D\"\n",
    "echo \"URL with table name, clade, measures, and outcome: $modified_url\"\n",
    "\n",
    "#Remove all epitopes not restricted to MHC class I\n",
    "#the relevant column is qualitative_measures - This will never change\n",
    "modified_url=$modified_url\"&mhc_allele_iri_search=cs.%7BMRO:0001675%7D\"\n",
    "echo \"URL with table name, clade, measures, and outcome: $modified_url\"\n",
    "\n",
    "\n",
    "#Cols of interest\n",
    "    #Note, currently\n",
    "cols_interest=(\"mhc_allele_iri_search\" \"qualitative_measures\" \"source_organism_iri_search\" 'parent_source_antigen_names' 'linear_sequence' 'e_modification' \"linear_sequence_length\" \"mhc_allele_names\" \"source_organism_names\" \"iedb_assay_ids\" \"reference_ids\")\n",
    "\n",
    "#Can we loop through the cols_interest to add each element to the url?    (yes - but it ends in \",\" - remove that)\n",
    "modified_url=\"$modified_url&select=\"\n",
    "echo \"URL for iteration over cols of interest: $modified_url\"\n",
    "for element in \"${cols_interest[@]}\"\n",
    "do\n",
    "    modified_url=\"$modified_url$element,\"\n",
    "done\n",
    "echo \"Output_url: $modified_url\"\n",
    "\n",
    "#Remove the last characters of the string\n",
    "modified_url=\"${modified_url::-1}\"\n",
    "echo \"This is the final URL $modified_url\"\n",
    "\n",
    "#Go print the HTTP counts\n",
    "echo \" \" #New line\n",
    "curl -I $modified_url -H 'Prefer: count=exact' #-o output.csv  #-o is for output. \n",
    "\n",
    "#Go fetch the data\n",
    "echo \" \" #New line\n",
    "echo \"the file is saved in: \"\n",
    "pwd #print working dir\n",
    "curl $modified_url -H 'accept: text/csv' -o output.csv  #-o is for output. "
   ]
  },
  {
   "cell_type": "code",
   "execution_count": 261,
   "id": "c8004e1c-94d1-42dc-bd7a-3c3898797a46",
   "metadata": {},
   "outputs": [
    {
     "name": "stderr",
     "output_type": "stream",
     "text": [
      "  % Total    % Received % Xferd  Average Speed   Time    Time     Time  Current\n",
      "                                 Dload  Upload   Total   Spent    Left  Speed\n",
      "100 6072k    0 6072k    0     0  1066k      0 --:--:--  0:00:05 --:--:-- 1463k\n"
     ]
    }
   ],
   "source": [
    "%%bash\n",
    "#troubleshooting - only print the HTTP message\n",
    "curl \"https://query-api.iedb.org/epitope_search?assay_iri_search=cs.%7BOBI:1110037%7D&qualitative_measures=cs.%7BPositive%7D&select=structure_id,source_organism_iri_search,qualitative_measures,iedb_assay_ids,iedb_assay_iris,assay_iri_search,assay_iris,assay_names\" -H 'accept: text/csv' -o output.csv"
   ]
  },
  {
   "cell_type": "code",
   "execution_count": 256,
   "id": "550c9311-f0ad-46fb-a94a-5087b5b950c2",
   "metadata": {},
   "outputs": [
    {
     "name": "stderr",
     "output_type": "stream",
     "text": [
      "  % Total    % Received % Xferd  Average Speed   Time    Time     Time  Current\n",
      "                                 Dload  Upload   Total   Spent    Left  Speed\n",
      "100 1347k    0 1347k    0     0   167k      0 --:--:--  0:00:08 --:--:--  300k\n"
     ]
    }
   ],
   "source": [
    "%%bash\n",
    "#troubleshooting - is \n",
    "curl \"https://query-api.iedb.org/epitope_search?assay_iri_search=cs.%7BOBI:0001216%7D&select=structure_id,source_organism_iri_search,qualitative_measures,iedb_assay_ids,iedb_assay_iris,assay_iri_search,assay_iris,assay_names\" -H 'accept: text/csv' -o output.csv"
   ]
  },
  {
   "cell_type": "code",
   "execution_count": 212,
   "id": "26f2eba8-284b-4b3d-abce-08f6f0553f5e",
   "metadata": {},
   "outputs": [
    {
     "name": "stdout",
     "output_type": "stream",
     "text": [
      "This is the request url used with the curl cmd:\n",
      "curl -X 'GET' 'https://query-api.iedb.org/tcr_search?linear_sequences=cs.%7BSIINFEKL%7D'\n"
     ]
    }
   ],
   "source": [
    "search_params={ 'linear_sequences': 'cs.{SIINFEKL}'}\n",
    "table_name='tcr_search'\n",
    "full_url=base_uri + '/' + table_name\n",
    "result = requests.get(full_url, params=search_params)\n",
    "df = pd.json_normalize(result.json())\n",
    "# funciton to print the CURL command given a request\n",
    "    #req is the request, a request\n",
    "def print_curl_cmd(req):\n",
    "    url = req.url\n",
    "    print(\"This is the request url used with the curl cmd:\") #My addition\n",
    "    print(\"curl -X 'GET' '\" + url + \"'\")\n",
    "    \n",
    "print_curl_cmd(result)"
   ]
  },
  {
   "cell_type": "markdown",
   "id": "6c8232c7-66de-4f56-a0b8-1c252978a05e",
   "metadata": {},
   "source": [
    "#\n",
    "Okay, so I tried alot of different things with the CSV file that I got from the terminal, but it did not seem to convert the way I want it. Let's go back to the initial method of using `request.get` to fetch the data from the server. I just have to write a for loop that modifies the url, downloads the data, appends the data, which continues until all data has been appended. "
   ]
  },
  {
   "cell_type": "code",
   "execution_count": 56,
   "id": "9905bae7-fbe3-4d80-8d1d-4f40b85abfd8",
   "metadata": {},
   "outputs": [],
   "source": [
    "#Base variables and functions\n",
    "base_url='https://query-api.iedb.org'\n",
    "def print_curl_cmd(req):\n",
    "    url = req.url\n",
    "    print(\"This is the request url used with the curl cmd:\") #My addition\n",
    "    print(\"curl -X 'GET' '\" + url + \"'\")"
   ]
  },
  {
   "cell_type": "code",
   "execution_count": 76,
   "id": "4d24e304-faff-43e5-8b06-0f48a1052295",
   "metadata": {},
   "outputs": [
    {
     "name": "stdout",
     "output_type": "stream",
     "text": [
      "This is the request url used with the curl cmd:\n",
      "curl -X 'GET' 'https://query-api.iedb.org/epitope_search?select=curated_source_antigens%2C+linear_sequence%2C+e_modification%2C+linear_sequence_length%2C+mhc_allele_names%2C++++++++++++++++source_organism_names%2C+iedb_assay_ids%2C+reference_ids'\n"
     ]
    }
   ],
   "source": [
    "#The initial code for fecthing data of interest: \n",
    "search_params={ 'select': 'curated_source_antigens, linear_sequence, e_modification, linear_sequence_length, mhc_allele_names,\\\n",
    "                source_organism_names, iedb_assay_ids, reference_ids'} \n",
    "table_name='epitope_search'\n",
    "full_url=base_url + '/' + table_name\n",
    "result = requests.get(full_url, params=search_params)\n",
    "print_curl_cmd(result)\n",
    "df = pd.json_normalize(result.json())"
   ]
  },
  {
   "cell_type": "code",
   "execution_count": 84,
   "id": "c02214a2-a321-4c62-8ba2-f4dd06d7709f",
   "metadata": {
    "tags": []
   },
   "outputs": [
    {
     "data": {
      "text/html": [
       "<div>\n",
       "<style scoped>\n",
       "    .dataframe tbody tr th:only-of-type {\n",
       "        vertical-align: middle;\n",
       "    }\n",
       "\n",
       "    .dataframe tbody tr th {\n",
       "        vertical-align: top;\n",
       "    }\n",
       "\n",
       "    .dataframe thead th {\n",
       "        text-align: right;\n",
       "    }\n",
       "</style>\n",
       "<table border=\"1\" class=\"dataframe\">\n",
       "  <thead>\n",
       "    <tr style=\"text-align: right;\">\n",
       "      <th></th>\n",
       "      <th>curated_source_antigens</th>\n",
       "      <th>linear_sequence</th>\n",
       "      <th>e_modification</th>\n",
       "      <th>linear_sequence_length</th>\n",
       "      <th>mhc_allele_names</th>\n",
       "      <th>source_organism_names</th>\n",
       "      <th>iedb_assay_ids</th>\n",
       "      <th>reference_ids</th>\n",
       "    </tr>\n",
       "  </thead>\n",
       "  <tbody>\n",
       "    <tr>\n",
       "      <th>0</th>\n",
       "      <td>[{'accession': 'AAM26117.1', 'name': 'lethal f...</td>\n",
       "      <td>NNIQSDLIKK</td>\n",
       "      <td>None</td>\n",
       "      <td>10.0</td>\n",
       "      <td>None</td>\n",
       "      <td>[Bacillus anthracis (anthrax bacterium)]</td>\n",
       "      <td>[1606108, 7621663]</td>\n",
       "      <td>[1014009, 1036746]</td>\n",
       "    </tr>\n",
       "    <tr>\n",
       "      <th>1</th>\n",
       "      <td>[{'accession': 'AAM26117.1', 'name': 'lethal f...</td>\n",
       "      <td>NNLTATLGAD</td>\n",
       "      <td>None</td>\n",
       "      <td>10.0</td>\n",
       "      <td>None</td>\n",
       "      <td>[Bacillus anthracis (anthrax bacterium)]</td>\n",
       "      <td>[1606030, 7621581]</td>\n",
       "      <td>[1014009, 1036746]</td>\n",
       "    </tr>\n",
       "  </tbody>\n",
       "</table>\n",
       "</div>"
      ],
      "text/plain": [
       "                             curated_source_antigens linear_sequence  \\\n",
       "0  [{'accession': 'AAM26117.1', 'name': 'lethal f...      NNIQSDLIKK   \n",
       "1  [{'accession': 'AAM26117.1', 'name': 'lethal f...      NNLTATLGAD   \n",
       "\n",
       "  e_modification  linear_sequence_length mhc_allele_names  \\\n",
       "0           None                    10.0             None   \n",
       "1           None                    10.0             None   \n",
       "\n",
       "                      source_organism_names      iedb_assay_ids  \\\n",
       "0  [Bacillus anthracis (anthrax bacterium)]  [1606108, 7621663]   \n",
       "1  [Bacillus anthracis (anthrax bacterium)]  [1606030, 7621581]   \n",
       "\n",
       "        reference_ids  \n",
       "0  [1014009, 1036746]  \n",
       "1  [1014009, 1036746]  "
      ]
     },
     "execution_count": 84,
     "metadata": {},
     "output_type": "execute_result"
    }
   ],
   "source": [
    "#Inpect the result df\n",
    "df[0:2]\n"
   ]
  },
  {
   "cell_type": "code",
   "execution_count": 98,
   "id": "8c379fde-c91b-4aae-aa35-6fab90601c65",
   "metadata": {},
   "outputs": [
    {
     "name": "stdout",
     "output_type": "stream",
     "text": [
      "This is the request url used with the curl cmd:\n",
      "curl -X 'GET' 'https://query-api.iedb.org/epitope_search?offset=1&select=curated_source_antigens%2C+linear_sequence%2C+e_modification%2C+linear_sequence_length%2C+mhc_allele_names%2C++++++++++++++++source_organism_names%2C+iedb_assay_ids%2C+reference_ids'\n",
      "https://query-api.iedb.org/antigen_search?offset=10000\n"
     ]
    }
   ],
   "source": [
    "#The first offset\n",
    "base_url='https://query-api.iedb.org'\n",
    "off_set = \"1\"\n",
    "search_params={ 'select': 'curated_source_antigens, linear_sequence, e_modification, linear_sequence_length, mhc_allele_names,\\\n",
    "                source_organism_names, iedb_assay_ids, reference_ids'} \n",
    "table_name='epitope_search'\n",
    "full_url=base_url + '/' + table_name + '?' + \"offset=\" + off_set\n",
    "result = requests.get(full_url, params=search_params)\n",
    "print_curl_cmd(result)\n",
    "df = pd.json_normalize(result.json())\n",
    "\n",
    "print(\"https://query-api.iedb.org/antigen_search?offset=10000\")"
   ]
  },
  {
   "cell_type": "code",
   "execution_count": 99,
   "id": "3e6245c9-49ef-4950-b668-72b35b6b7ff0",
   "metadata": {},
   "outputs": [
    {
     "data": {
      "text/html": [
       "<div>\n",
       "<style scoped>\n",
       "    .dataframe tbody tr th:only-of-type {\n",
       "        vertical-align: middle;\n",
       "    }\n",
       "\n",
       "    .dataframe tbody tr th {\n",
       "        vertical-align: top;\n",
       "    }\n",
       "\n",
       "    .dataframe thead th {\n",
       "        text-align: right;\n",
       "    }\n",
       "</style>\n",
       "<table border=\"1\" class=\"dataframe\">\n",
       "  <thead>\n",
       "    <tr style=\"text-align: right;\">\n",
       "      <th></th>\n",
       "      <th>curated_source_antigens</th>\n",
       "      <th>linear_sequence</th>\n",
       "      <th>e_modification</th>\n",
       "      <th>linear_sequence_length</th>\n",
       "      <th>mhc_allele_names</th>\n",
       "      <th>source_organism_names</th>\n",
       "      <th>iedb_assay_ids</th>\n",
       "      <th>reference_ids</th>\n",
       "    </tr>\n",
       "  </thead>\n",
       "  <tbody>\n",
       "    <tr>\n",
       "      <th>0</th>\n",
       "      <td>[{'accession': 'Q9NW08.2', 'name': 'DNA-direct...</td>\n",
       "      <td>NAISTGNWSLKRFKM</td>\n",
       "      <td>None</td>\n",
       "      <td>15.0</td>\n",
       "      <td>None</td>\n",
       "      <td>[Homo sapiens (human)]</td>\n",
       "      <td>[1949997, 1949998]</td>\n",
       "      <td>[1024970]</td>\n",
       "    </tr>\n",
       "    <tr>\n",
       "      <th>1</th>\n",
       "      <td>[{'accession': 'Q7Z1H1', 'name': 'Secreted pro...</td>\n",
       "      <td>NAKQCVFKHSQPN</td>\n",
       "      <td>None</td>\n",
       "      <td>13.0</td>\n",
       "      <td>None</td>\n",
       "      <td>[Necator americanus]</td>\n",
       "      <td>[1945502, 1945503, 1945504, 1945505]</td>\n",
       "      <td>[1024480]</td>\n",
       "    </tr>\n",
       "  </tbody>\n",
       "</table>\n",
       "</div>"
      ],
      "text/plain": [
       "                             curated_source_antigens  linear_sequence  \\\n",
       "0  [{'accession': 'Q9NW08.2', 'name': 'DNA-direct...  NAISTGNWSLKRFKM   \n",
       "1  [{'accession': 'Q7Z1H1', 'name': 'Secreted pro...    NAKQCVFKHSQPN   \n",
       "\n",
       "  e_modification  linear_sequence_length mhc_allele_names  \\\n",
       "0           None                    15.0             None   \n",
       "1           None                    13.0             None   \n",
       "\n",
       "    source_organism_names                        iedb_assay_ids reference_ids  \n",
       "0  [Homo sapiens (human)]                    [1949997, 1949998]     [1024970]  \n",
       "1    [Necator americanus]  [1945502, 1945503, 1945504, 1945505]     [1024480]  "
      ]
     },
     "execution_count": 99,
     "metadata": {},
     "output_type": "execute_result"
    }
   ],
   "source": [
    "#Inpect the result df\n",
    "df[0:2]"
   ]
  },
  {
   "cell_type": "markdown",
   "id": "f2dfe1b5-923c-4435-bcba-9caef88d7b6e",
   "metadata": {},
   "source": [
    "# There appear to be an issue, wherein the requests starts at a random place within the database."
   ]
  },
  {
   "cell_type": "code",
   "execution_count": null,
   "id": "2ecf1791-487f-4e28-84c8-da1f38b644aa",
   "metadata": {},
   "outputs": [],
   "source": []
  }
 ],
 "metadata": {
  "kernelspec": {
   "display_name": "Python 3",
   "language": "python",
   "name": "python3"
  },
  "language_info": {
   "codemirror_mode": {
    "name": "ipython",
    "version": 3
   },
   "file_extension": ".py",
   "mimetype": "text/x-python",
   "name": "python",
   "nbconvert_exporter": "python",
   "pygments_lexer": "ipython3",
   "version": "3.8.8"
  }
 },
 "nbformat": 4,
 "nbformat_minor": 5
}
